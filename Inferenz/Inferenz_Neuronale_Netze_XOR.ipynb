{
 "cells": [
  {
   "cell_type": "markdown",
   "metadata": {},
   "source": [
    "Homomorphe Verschlüsselung in Neuronalen Netzen\n",
    "===\n",
    "XOR lösen durch ML\n",
    "---\n",
    "Dieses Notebook dient als ein einsteigerfreundliches Beispiel für die Verwendung von homomorph verschlüsselten Daten durch ein simples Neuronales Netz. Als leichtes Beispiel wurde hierfür die Aufgabe ausgewählt mit einem Neuronalen Netz ein XOR Bauteil nachzustellen. Dies bedeutet, dass zwei Eingaben und eine Ausgabe vorhanden sein müssen in diesem Netz."
   ]
  },
  {
   "cell_type": "code",
   "execution_count": 40,
   "metadata": {},
   "outputs": [],
   "source": [
    "import numpy as np\n",
    "import matplotlib.pyplot as plt\n",
    "import tenseal as ts\n",
    "\n",
    "X = np.array([[0, 0, 1, 1], [0, 1, 0, 1]])\n",
    "Y = np.array([[0, 1, 1, 0]])\n",
    "\n",
    "learning_rate = 1\n",
    "n = 2\n",
    "\n",
    "np.random.seed(1)\n",
    "\n",
    "w1 = np.random.rand(2,2)\n",
    "w2 = np.random.rand(1,2)\n",
    "b1 = np.zeros((2, 1))\n",
    "b2 = np.zeros((1, 1))\n",
    "\n",
    "losses = []"
   ]
  },
  {
   "cell_type": "markdown",
   "metadata": {},
   "source": [
    "In einem Neuralen Netz gibt es neben den linearen Schichten auch einen nicht-linearen Anteil, die Aktivierungsfunktionen. Meistens wird an dieser Stelle eine Funktion gewählt, welche die Eingabe in eine Zahl in einem festgelegt Intervall übersetzt. In diesem Fall zwischen 0 und 1."
   ]
  },
  {
   "cell_type": "code",
   "execution_count": 41,
   "metadata": {},
   "outputs": [],
   "source": [
    "def sigmoid(x):\n",
    "    return 1/(1 + np.exp(-x))\n",
    "\n",
    "def sigmoid_prime(x):\n",
    "    return sigmoid(x)*(1 - sigmoid(x))"
   ]
  },
  {
   "cell_type": "markdown",
   "metadata": {},
   "source": [
    "Nun können die zwei wichtigsten Funktionen eines Neuronalen Netz erstellt werden, die Forward und Backward Propagation."
   ]
  },
  {
   "cell_type": "code",
   "execution_count": 42,
   "metadata": {},
   "outputs": [],
   "source": [
    "def forward(w1, w2, x):\n",
    "    z1 = np.add(np.dot(w1, x), b1)\n",
    "    a1 = sigmoid(z1)\n",
    "    z2 = np.add(np.dot(w2, a1), b2)\n",
    "    a2 = sigmoid(z2)\n",
    "    return z1, a1, z2, a2\n",
    "\n",
    "def backward(w1, w2, z1, a1, z2, a2, x, y):\n",
    "    dz2 = a2 - y\n",
    "    dw2 = np.dot(dz2, a1.T)\n",
    "    db2 = np.sum(dz2, axis = 1, keepdims = True)\n",
    "    da1 = np.dot(w2.T, dz2)\n",
    "\n",
    "    dz1 = np.multiply(da1, sigmoid_prime(z1))\n",
    "    dw1 = np.dot(dz1, x.T)\n",
    "    db1 = np.sum(dz1, axis = 1, keepdims = True)\n",
    "\n",
    "    return dw1, db1, dw2, db2"
   ]
  },
  {
   "cell_type": "markdown",
   "metadata": {},
   "source": [
    "Das Modell beziehungsweise die Gewichte im Netz werden trainiert durch die zwei erstellten Funktionen."
   ]
  },
  {
   "cell_type": "code",
   "execution_count": 43,
   "metadata": {},
   "outputs": [
    {
     "data": {
      "text/plain": [
       "Text(0, 0.5, 'Loss value')"
      ]
     },
     "execution_count": 43,
     "metadata": {},
     "output_type": "execute_result"
    },
    {
     "data": {
      "image/png": "[encoded data removed]",
      "text/plain": [
       "<Figure size 432x288 with 1 Axes>"
      ]
     },
     "metadata": {
      "needs_background": "light"
     },
     "output_type": "display_data"
    }
   ],
   "source": [
    "iterations = 1000\n",
    "for i in range(iterations):\n",
    "    z1, a1, z2, a2 = forward(w1, w2, X)\n",
    "    loss = -(1 / n) * np.sum(Y * np.log(a2) + (1 - Y) * np.log(1 - a2))\n",
    "    losses.append(loss)\n",
    "\n",
    "    dw1, db1, dw2, db2 = backward(w1,w2,z1,a1,z2,a2,X,Y)\n",
    "\n",
    "    w2 = w2 - learning_rate * dw2\n",
    "    w1 = w1 - learning_rate * dw1\n",
    "    b2 = b2 - learning_rate * db2\n",
    "    b1 = b1 - learning_rate * db1\n",
    "\n",
    "plt.plot(losses)\n",
    "plt.xlabel(\"EPOCHS\")\n",
    "plt.ylabel(\"Loss value\")        "
   ]
  },
  {
   "cell_type": "code",
   "execution_count": 44,
   "metadata": {},
   "outputs": [
    {
     "name": "stdout",
     "output_type": "stream",
     "text": [
      "[0, 0]  --> 0\n",
      "[0, 1]  --> 1\n",
      "[1, 0]  --> 1\n",
      "[1, 1]  --> 0\n"
     ]
    }
   ],
   "source": [
    "def predict(w1,w2,input):\n",
    "    z1,a1,z2,a2 = forward(w1,w2,test)\n",
    "    a2 = np.squeeze(a2)\n",
    "    if a2>=0.5:\n",
    "        print([i[0] for i in input], \" --> 1\")\n",
    "    else:\n",
    "        print([i[0] for i in input], \" --> 0\")\n",
    "\n",
    "test = np.array([[0],[0]])\n",
    "predict(w1,w2,test)\n",
    "test = np.array([[0],[1]])\n",
    "predict(w1,w2,test)\n",
    "test = np.array([[1],[0]])\n",
    "predict(w1,w2,test)\n",
    "test = np.array([[1],[1]])\n",
    "predict(w1,w2,test)"
   ]
  },
  {
   "cell_type": "markdown",
   "metadata": {},
   "source": [
    "Das Testen auf allen vier XOR Möglichkeiten zeigt, dass das Modell für Eingaben korrekte Ausgaben produzieren kann."
   ]
  },
  {
   "cell_type": "markdown",
   "metadata": {},
   "source": [
    "Inferenz auf Verschlüsselten Daten\n",
    "===\n",
    "Approximation\n",
    "---\n",
    "In dem nächsten Teil soll die implementierte Version eines Neuronalen Netz für die Abbildung eines XOR Gates verwendet werden mit verschlüsselten Daten. Hierfür muss die Aktivierungsfunktion ausgetauscht werden, da die darin verwendeten arithmetischen Operationen nicht kompatibel sind mit homomorpher Verschlüsselung. Um dies zu erreichen kann zum Beispiel die bisher verwendete Aktivierungsfunktion approximiert werden."
   ]
  },
  {
   "cell_type": "code",
   "execution_count": 48,
   "metadata": {},
   "outputs": [],
   "source": [
    "w1_Approx = np.random.rand(2,2)\n",
    "w2_Approx = np.random.rand(1,2)\n",
    "b1_Approx = np.zeros((2, 1))\n",
    "b2_Approx = np.zeros((1, 1))\n",
    "\n",
    "def approx_sigmoid(x):\n",
    "    return 0.5 + 0.197 * x - 0.0004 * (x*x*x)\n",
    "\n",
    "def approx_sigmoid_prime(x):\n",
    "    return approx_sigmoid(x)*(1 - approx_sigmoid(x))"
   ]
  },
  {
   "cell_type": "markdown",
   "metadata": {},
   "source": [
    "Als nächstes müssen nur noch kleinere Änderungen vorgenommen werden in der forward und backward Funktion."
   ]
  },
  {
   "cell_type": "code",
   "execution_count": 49,
   "metadata": {},
   "outputs": [],
   "source": [
    "def forward_Approx(w1, w2, x):\n",
    "    z1 = np.add(np.dot(w1, x), b1_Approx)\n",
    "    a1 = approx_sigmoid(z1)\n",
    "    z2 = np.add(np.dot(w2, a1), b2_Approx)\n",
    "    a2 = approx_sigmoid(z2)\n",
    "    \n",
    "    return z1, a1, z2, a2\n",
    "\n",
    "def backward_Approx(n, w1, w2, z1, a1, z2, a2, x, y):\n",
    "    dz2 = a2 - y\n",
    "    dw2 = np.dot(dz2, a1.T)\n",
    "    db2 = np.sum(dz2, axis = 1, keepdims = True)\n",
    "\n",
    "    da1 = np.dot(w2.T, dz2)\n",
    "    dz1 = np.multiply(da1, approx_sigmoid_prime(z1))\n",
    "    dw1 = np.dot(dz1, x.T)\n",
    "    db1 = np.sum(dz1, axis = 1, keepdims = True)\n",
    "\n",
    "    return dw1, db1, dw2, db2"
   ]
  },
  {
   "cell_type": "markdown",
   "metadata": {},
   "source": [
    "Nach den Anpassungen kann das Modell mit der approximierten Sigmoid Funktion trainiert werden."
   ]
  },
  {
   "cell_type": "code",
   "execution_count": 52,
   "metadata": {},
   "outputs": [],
   "source": [
    "iterations = 10000\n",
    "for i in range(iterations):\n",
    "    z1, a1, z2, a2 = forward_Approx(w1_Approx, w2_Approx, X)\n",
    "\n",
    "    dw1, db1, dw2, db2 = backward_Approx(n,w1_Approx,w2_Approx,z1,a1,z2,a2,X,Y)\n",
    "\n",
    "    w2_Approx = w2_Approx - learning_rate * dw2\n",
    "    w1_Approx = w1_Approx - learning_rate * dw1\n",
    "    b2_Approx = b2_Approx - learning_rate * db2\n",
    "    b1_Approx = b1_Approx - learning_rate * db1"
   ]
  },
  {
   "cell_type": "markdown",
   "metadata": {},
   "source": [
    "Nachdem das Modell trainiert ist können die verschlüsselten Eingaben in dem Modell verarbeitet werden. Hierzu müssen aber die Eingaben verschlüsselten werden unter Berücksichtigung, welche Berechnungen in dem Netz durchgeführt werden. Lineare Schichten können hierbei ignoriert werden, da diese nur Multiplikation mit unverschlüsselten Werten darstellt. Wichtiger ist die approximierte Aktivierungsfunktion, denn in dieser werden die jeweiligen Eingaben mit sich selbst multipliziert. Dies sorgt für ein höheres Rauschen in den verschlüsselten Daten, das Überwunden werden kann, indem die verschlüsselten Objekte genügend Bits zugeteilt werden."
   ]
  },
  {
   "cell_type": "code",
   "execution_count": 53,
   "metadata": {},
   "outputs": [
    {
     "name": "stdout",
     "output_type": "stream",
     "text": [
      "[0, 0]  --> 0\n",
      "[0, 1]  --> 1\n",
      "[1, 0]  --> 1\n",
      "[1, 1]  --> 0\n"
     ]
    }
   ],
   "source": [
    "poly_mod_degree = 32768\n",
    "bits_scale = 40\n",
    "\n",
    "coeff_mod_bit_sizes=[60, bits_scale, bits_scale, bits_scale, bits_scale, bits_scale, bits_scale, bits_scale, bits_scale, 60]\n",
    "ctx_training = ts.context(ts.SCHEME_TYPE.CKKS, poly_mod_degree, -1, coeff_mod_bit_sizes)\n",
    "\n",
    "ctx_training.global_scale = pow(2, bits_scale)\n",
    "ctx_training.generate_galois_keys()\n",
    "\n",
    "array = [[0,0], [0,1], [1,0], [1,1]]\n",
    "\n",
    "for input in array:\n",
    "    first = ts.ckks_vector(ctx_training, [input[0]])\n",
    "    second = ts.ckks_vector(ctx_training, [input[1]])\n",
    "    test = np.array([[first],[second]])\n",
    "    z1,a1,z2,a2 = forward_Approx(w1_Approx,w2_Approx,test)\n",
    "    if a2[0][0].decrypt()[0] >= 0.5:\n",
    "        print(input, \" --> 1\")\n",
    "    else:\n",
    "        print(input, \" --> 0\")"
   ]
  },
  {
   "cell_type": "markdown",
   "metadata": {},
   "source": [
    "Für die gegebene Testeingabe wurde die korrekte Ausgabe erzeugt, wodurch bestätigt ist, dass die Approximation von der Sigmoid Funktion in diesem Beispiel erfolgreich eingesetzt werden kann.\n",
    "Probleme mit Approximation\n",
    "* Sehr große Verschlüsselung nötig, um die Berechnungen durchzuführen\n",
    "* Dauert länger für nur eine Berechnung als die vier unverschlüsselten Beispiele"
   ]
  },
  {
   "cell_type": "markdown",
   "metadata": {},
   "source": [
    "Niedrige nicht lineare Funktion\n",
    "---\n",
    "Die nächste Idee stammt aus dem CryptoNet Paper und verwendet anstatt der approximierten Funktion eine Square Function. Dies liegt daran, dass bei einer solchen nicht linearen Funktion die Eingabe nur einmal mit sich selbst multipliziert werden muss. Am Ende des Netzs wurd auch im CryptoNet Modell eine Sigmoid Funktion eingesetzt, um die Backpropagation gut berechnen zu können. Diese Funktion kann aber nach dem Training wieder entfernt werden, denn diese bietet keinen Mehrwert für das eigentliche Ergebnis der Verarbeitung."
   ]
  },
  {
   "cell_type": "code",
   "execution_count": 27,
   "metadata": {},
   "outputs": [],
   "source": [
    "w1_Square = np.random.rand(2,2)\n",
    "w2_Square = np.random.rand(1,2)\n",
    "b1_Square = np.zeros((2, 1))\n",
    "b2_Square = np.zeros((1, 1))\n",
    "\n",
    "def square(x):\n",
    "    return np.square(x)\n",
    "\n",
    "def square_prime(x):\n",
    "    return 2 * x\n",
    "\n",
    "def sigmoid(x):\n",
    "    return 1/(1 + np.exp(-x))"
   ]
  },
  {
   "cell_type": "markdown",
   "metadata": {},
   "source": [
    "Die neue Architektur des Neuronalen Netz beinhaltet nun nach der versteckten Schicht eine Square Function. Genauso wurde in der Backward Funktion anstatt mit der Ableitung der Sigmoid Funktion mit der Ableitung der Square Funktion gearbeitet."
   ]
  },
  {
   "cell_type": "code",
   "execution_count": 28,
   "metadata": {},
   "outputs": [],
   "source": [
    "def forward_Square(w1, w2, x):\n",
    "    z1 = np.add(np.dot(w1, x), b1_Square)\n",
    "    a1 = square(z1)\n",
    "    z2 = np.add(np.dot(w2, a1), b2_Square)\n",
    "    a2 = sigmoid(z2)\n",
    "    \n",
    "    return z1, a1, z2, a2\n",
    "\n",
    "def backward_Square(n, w1, w2, z1, a1, z2, a2, x, y):\n",
    "    dz2 = a2 - y\n",
    "    dw2 = np.dot(dz2, a1.T)\n",
    "    db2 = np.sum(dz2, axis = 1, keepdims = True)\n",
    "\n",
    "    da1 = np.dot(w2.T, dz2)\n",
    "    dz1 = np.multiply(da1, square_prime(z1))\n",
    "    dw1 = np.dot(dz1, x.T)\n",
    "    db1 = np.sum(dz1, axis = 1, keepdims = True)\n",
    "\n",
    "    return dw1, db1, dw2, db2"
   ]
  },
  {
   "cell_type": "markdown",
   "metadata": {},
   "source": [
    "Die neue Netzarchitektur kann wie in den letzten Beispiel trainiert werden."
   ]
  },
  {
   "cell_type": "code",
   "execution_count": 29,
   "metadata": {},
   "outputs": [],
   "source": [
    "iterations = 100\n",
    "for i in range(iterations):\n",
    "    z1, a1, z2, a2 = forward_Square(w1_Square, w2_Square, X)\n",
    "\n",
    "    dw1, db1, dw2, db2 = backward_Square(n,w1_Square,w2_Square,z1,a1,z2,a2,X,Y)\n",
    "\n",
    "    w2_Square = w2_Square - learning_rate * dw2\n",
    "    w1_Square = w1_Square - learning_rate * dw1\n",
    "    b2_Square = b2_Square - learning_rate * db2\n",
    "    b1_Square = b1_Square - learning_rate * db1  "
   ]
  },
  {
   "cell_type": "markdown",
   "metadata": {},
   "source": [
    "Bevor das Modell verschlüsselte Daten verarbeitet, wird die Funktionalität auf den unverschlüsselten Eingaben erprobt. Dies liegt daran, dass die Netzarchitektur sich stärker im Vergleich zum Approximationsansatz geändert hat."
   ]
  },
  {
   "cell_type": "code",
   "execution_count": 30,
   "metadata": {},
   "outputs": [
    {
     "name": "stdout",
     "output_type": "stream",
     "text": [
      "[0, 0]  --> 0\n",
      "[0, 1]  --> 1\n",
      "[1, 0]  --> 1\n",
      "[1, 1]  --> 0\n"
     ]
    }
   ],
   "source": [
    "def predict(w1,w2,input):\n",
    "    z1,a1,z2,a2 = forward_Square(w1_Square,w2_Square,test)\n",
    "    a2 = np.squeeze(a2)\n",
    "    if a2>=0.5:\n",
    "        print([i[0] for i in input], \" --> 1\")\n",
    "    else:\n",
    "        print([i[0] for i in input], \" --> 0\")\n",
    "\n",
    "test = np.array([[0],[0]])\n",
    "predict(w1,w2,test)\n",
    "test = np.array([[0],[1]])\n",
    "predict(w1,w2,test)\n",
    "test = np.array([[1],[0]])\n",
    "predict(w1,w2,test)\n",
    "test = np.array([[1],[1]])\n",
    "predict(w1,w2,test)"
   ]
  },
  {
   "cell_type": "markdown",
   "metadata": {},
   "source": [
    "Durch den Test wird ersichtlich, dass das neue Modell die Eingaben korrekt verarbeiten kann. Dies bedeutet, dass als nächstes die Sigmoid Funktion im Modell entfernt werden kann und damit bereit ist für die verschlüsselten Testdaten."
   ]
  },
  {
   "cell_type": "code",
   "execution_count": 31,
   "metadata": {},
   "outputs": [],
   "source": [
    "def forward_Square(w1, w2, x):\n",
    "    z1 = np.add(np.dot(w1, x), b1_Square)\n",
    "    a1 = square(z1)\n",
    "    z2 = np.add(np.dot(w2, a1), b2_Square)\n",
    "    return z2"
   ]
  },
  {
   "cell_type": "markdown",
   "metadata": {},
   "source": [
    "Im Vergleich sieht man an der Verschlüsselung, dass deutlich an der Größe der verschlüsselten Objekte gespart werden kann. Das resultierende Ergebnis des Modells wird nach der Entschlüsselung noch mit der Sigmoid Funktion bearbeitet, wodurch die Ausgabe leichter zu interpretieren ist."
   ]
  },
  {
   "cell_type": "code",
   "execution_count": 32,
   "metadata": {},
   "outputs": [
    {
     "name": "stdout",
     "output_type": "stream",
     "text": [
      "[0, 0]  --> 0\n",
      "[0, 1]  --> 1\n",
      "[1, 0]  --> 1\n",
      "[1, 1]  --> 0\n"
     ]
    }
   ],
   "source": [
    "bits_scale = 26\n",
    "context = ts.context(\n",
    "    ts.SCHEME_TYPE.CKKS,\n",
    "    poly_modulus_degree=8192,\n",
    "    coeff_mod_bit_sizes=[31, bits_scale, bits_scale, bits_scale, bits_scale, bits_scale, bits_scale, 31]\n",
    ")\n",
    "context.global_scale = pow(2, bits_scale)\n",
    "context.generate_galois_keys()\n",
    "\n",
    "array = [[0,0], [0,1], [1,0], [1,1]]\n",
    "\n",
    "for input in array:\n",
    "    first = ts.ckks_vector(context, [input[0]])\n",
    "    second = ts.ckks_vector(context, [input[1]])\n",
    "    test = np.array([[first],[second]])\n",
    "    \n",
    "    z2 = forward_Square(w1_Square,w2_Square,test)\n",
    "    result = z2[0][0].decrypt()[0]\n",
    "    if sigmoid(result) >= 0.5:\n",
    "        print(input, \" --> 1\")\n",
    "    else:\n",
    "        print(input, \" --> 0\")"
   ]
  },
  {
   "cell_type": "markdown",
   "metadata": {},
   "source": [
    "Die Ausgabe ist korrekt und zeigt damit, dass auch eine niedrige nicht lineare Funktion erfolgreich eingesetzt werden kann. Im Vergleich zu der Approximation, wurde nicht nur die Größe der verschlüsselten Daten sondern auch die Laufzeit der Vorhersage verbessert."
   ]
  },
  {
   "cell_type": "markdown",
   "metadata": {},
   "source": [
    "Funktions Sampling\n",
    "---\n",
    "Die letzte Möglichkeit ist alle möglichen Eingabewerte für die Aktivierungsfunktion vor dem Verwenden des Netzes zu berechnen und abzuspeichern. Dann kann während der Verwendung ein Table Lookup durchgeführt werden, um die passenden Werte zu erhalten. Vorteil dabei ist, dass keine Berechnung wie in den letzten beiden Möglichkeiten durchgeführt werden muss. Nachteil ist, dass sehr viele Werte berechnet und ebenfalls verschlüsselt werden müssen, da der Aufruf durch verschlüsselte Daten geschieht. Ein Beispiel dafür gibt es in diesem [Paper](https://eprint.iacr.org/2018/202.pdf)."
   ]
  }
 ],
 "metadata": {
  "interpreter": {
   "hash": "8f7bcc9c9e9fc7020bbd4d78b5067a4b842b19b8327d3657c3117d34f6877e4d"
  },
  "kernelspec": {
   "display_name": "Python 3.10.4 ('projektarbeit')",
   "language": "python",
   "name": "python3"
  },
  "language_info": {
   "codemirror_mode": {
    "name": "ipython",
    "version": 3
   },
   "file_extension": ".py",
   "mimetype": "text/x-python",
   "name": "python",
   "nbconvert_exporter": "python",
   "pygments_lexer": "ipython3",
   "version": "3.10.4"
  },
  "orig_nbformat": 4
 },
 "nbformat": 4,
 "nbformat_minor": 2
}
