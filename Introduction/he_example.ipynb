{
 "cells": [
  {
   "cell_type": "markdown",
   "metadata": {},
   "source": [
    "Verschlüsselungs Beispiele in Python\n",
    "==========================\n",
    "Im Folgenden werden die grundlegenden Operationen in verschiedenen Python Bibliotheken ausprobiert."
   ]
  },
  {
   "cell_type": "code",
   "execution_count": 1,
   "metadata": {},
   "outputs": [],
   "source": [
    "import numpy as np\n",
    "import tenseal as ts"
   ]
  },
  {
   "cell_type": "markdown",
   "metadata": {},
   "source": [
    "Pyfhel Bibliothek\n",
    "-----------------\n",
    "https://pyfhel.readthedocs.io/en/latest/index.html"
   ]
  },
  {
   "cell_type": "markdown",
   "metadata": {},
   "source": [
    "In dem ersten Schritt wird ein Pyfhel Objekt mit einem Schlüsselpaar erstellt, das in den weiteren Schritten die Verschlüsselung und Entschlüsselung ausführen wird."
   ]
  },
  {
   "cell_type": "code",
   "execution_count": 3,
   "metadata": {},
   "outputs": [],
   "source": [
    "from Pyfhel import Pyfhel\n",
    "\n",
    "pyfhel = Pyfhel()\n",
    "pyfhel.contextGen(p=65537)\n",
    "\n",
    "pyfhel.keyGen()"
   ]
  },
  {
   "cell_type": "markdown",
   "metadata": {},
   "source": [
    "Zwei Zahlen werden definiert und dann anschließend verschlüsselt."
   ]
  },
  {
   "cell_type": "code",
   "execution_count": 4,
   "metadata": {},
   "outputs": [],
   "source": [
    "integer1 = 2\n",
    "integer2 = 2\n",
    "ctxt1 = pyfhel.encryptInt(integer1)\n",
    "ctxt2 = pyfhel.encryptInt(integer2)"
   ]
  },
  {
   "cell_type": "markdown",
   "metadata": {},
   "source": [
    "Operationen wie +, - und * können auf den verschlüsselten Daten in dieser Bibliothek ausgeführt werden. Dies ist auch möglich innerhalb von Numpy Vektoren."
   ]
  },
  {
   "cell_type": "code",
   "execution_count": 5,
   "metadata": {},
   "outputs": [],
   "source": [
    "ctxtSum = ctxt1 + ctxt2        \n",
    "ctxtSub = ctxt1 - ctxt2         \n",
    "ctxtMul = ctxt1 * ctxt2\n",
    "\n",
    "a = np.array([ctxt1, ctxt2])\n",
    "b = np.array([ctxt2, ctxt2])\n",
    "c = a + b"
   ]
  },
  {
   "cell_type": "markdown",
   "metadata": {},
   "source": [
    "Im letzten Schritt werden noch die Ergebnisse entschlüsselt."
   ]
  },
  {
   "cell_type": "code",
   "execution_count": 6,
   "metadata": {},
   "outputs": [
    {
     "name": "stdout",
     "output_type": "stream",
     "text": [
      "addition:       decrypt(ctxt1 + ctxt2) =  4\n",
      "substraction:   decrypt(ctxt1 - ctxt2) =  0\n",
      "multiplication: decrypt(ctxt1 * ctxt2) =  4\n",
      "numpy:          decrypt([ctxt1, ctxt2] + [ctxt2, ctxt2]) = (4, 4)\n"
     ]
    }
   ],
   "source": [
    "resSum = pyfhel.decryptInt(ctxtSum)\n",
    "resSub = pyfhel.decryptInt(ctxtSub)\n",
    "resMul = pyfhel.decryptInt(ctxtMul)\n",
    "idx0 = pyfhel.decryptInt(c[0])\n",
    "idx1 = pyfhel.decryptInt(c[1])\n",
    "print(f\"addition:       decrypt(ctxt1 + ctxt2) =  {resSum}\")\n",
    "print(f\"substraction:   decrypt(ctxt1 - ctxt2) =  {resSub}\")\n",
    "print(f\"multiplication: decrypt(ctxt1 * ctxt2) =  {resMul}\")\n",
    "print(f\"numpy:          decrypt([ctxt1, ctxt2] + [ctxt2, ctxt2]) = {idx0,idx1}\")"
   ]
  },
  {
   "cell_type": "markdown",
   "metadata": {},
   "source": [
    "Python-Paillier Bibliothek\n",
    "---\n",
    "https://python-paillier.readthedocs.io/en/develop/"
   ]
  },
  {
   "cell_type": "code",
   "execution_count": 7,
   "metadata": {},
   "outputs": [],
   "source": [
    "from phe import paillier\n",
    "\n",
    "public_key, private_key = paillier.generate_paillier_keypair()"
   ]
  },
  {
   "cell_type": "code",
   "execution_count": 8,
   "metadata": {},
   "outputs": [],
   "source": [
    "secret_number_list = [2.0]\n",
    "encrypted_number_list = [public_key.encrypt(x) for x in secret_number_list]"
   ]
  },
  {
   "cell_type": "code",
   "execution_count": 9,
   "metadata": {},
   "outputs": [
    {
     "data": {
      "text/plain": [
       "[2.0]"
      ]
     },
     "execution_count": 9,
     "metadata": {},
     "output_type": "execute_result"
    }
   ],
   "source": [
    "[private_key.decrypt(x) for x in encrypted_number_list]"
   ]
  },
  {
   "cell_type": "markdown",
   "metadata": {},
   "source": [
    "TenSEAL Bibliothek\n",
    "---\n",
    "https://github.com/OpenMined/TenSEAL"
   ]
  },
  {
   "cell_type": "code",
   "execution_count": 10,
   "metadata": {},
   "outputs": [
    {
     "data": {
      "text/plain": [
       "[0.9999905657379802,\n",
       " 2.0009927010841304,\n",
       " 5.003905791437214,\n",
       " 7.005892906271997,\n",
       " 0.999921293258307]"
      ]
     },
     "execution_count": 10,
     "metadata": {},
     "output_type": "execute_result"
    }
   ],
   "source": [
    "bits_scale = 26\n",
    "\n",
    "# Create TenSEAL context\n",
    "context = ts.context(\n",
    "    ts.SCHEME_TYPE.CKKS,\n",
    "    poly_modulus_degree=8192,\n",
    "    coeff_mod_bit_sizes=[31, bits_scale, bits_scale, bits_scale, bits_scale, bits_scale, bits_scale, 31]\n",
    ")\n",
    "\n",
    "# set the scale\n",
    "context.global_scale = pow(2, bits_scale)\n",
    "\n",
    "# galois keys are required to do ciphertext rotations\n",
    "context.generate_galois_keys()\n",
    "\n",
    "v1 = [0, 1, 2, 3, 4]\n",
    "v2 = [4, 3, 2, 1, 0]\n",
    "\n",
    "skalar = [1, 1, 2, 2, 0]\n",
    "\n",
    "# encrypted vectors\n",
    "enc_v1 = ts.ckks_vector(context, v1)\n",
    "enc_v2 = ts.ckks_vector(context, v2)\n",
    "\n",
    "result = enc_v1 + enc_v2\n",
    "result.decrypt() # ~ [4, 4, 4, 4, 4]\n",
    "\n",
    "result = enc_v1.dot(enc_v2)\n",
    "result.decrypt() # ~ [10]\n",
    "\n",
    "result = enc_v1 * np.array(skalar) + [1, 1, 1, 1, 1]\n",
    "result.decrypt()"
   ]
  },
  {
   "cell_type": "markdown",
   "metadata": {},
   "source": [
    "Ungefähre Approximation des tanh mit verschlüsselten Daten"
   ]
  },
  {
   "cell_type": "code",
   "execution_count": 11,
   "metadata": {},
   "outputs": [
    {
     "name": "stdout",
     "output_type": "stream",
     "text": [
      "0.7615941559557649\n",
      "[0.6650418367127828]\n"
     ]
    }
   ],
   "source": [
    "test = 1\n",
    "\n",
    "print(np.tanh(test))\n",
    "\n",
    "x = ts.ckks_vector(context, [test])\n",
    "def approTanh(x):\n",
    "    first = (x*x*x)\n",
    "    return x - (first*(1/3))\n",
    "result = approTanh(x)\n",
    "print(result.decrypt())"
   ]
  },
  {
   "cell_type": "markdown",
   "metadata": {},
   "source": [
    "Als nächstes ein Beispiel der Multiplikationstiefe von Leveled HE und wie oft Werte neu entschlüsselt und verschlüsselt werden müssen. Zuerst wird ein Kontext erstellt, welcher alle Multiplikationen durchführen kann. Danach wird ein kleiner Kontext verwendet. Die Datei he_memory_usage.py zeigt aber, dass der große Kontext um einiges mehr benötigt an Speicherplatz."
   ]
  },
  {
   "cell_type": "code",
   "execution_count": 10,
   "metadata": {},
   "outputs": [],
   "source": [
    "poly_mod_degree = 2 ** 14\n",
    "bits_scale = 40\n",
    "\n",
    "coeff_mod_bit_sizes=[60, bits_scale, bits_scale, bits_scale, bits_scale, 60]\n",
    "ctx_training = ts.context(ts.SCHEME_TYPE.CKKS, poly_mod_degree, -1, coeff_mod_bit_sizes)\n",
    "\n",
    "ctx_training.global_scale = pow(2, bits_scale)\n",
    "ctx_training.generate_galois_keys()"
   ]
  },
  {
   "cell_type": "code",
   "execution_count": 4,
   "metadata": {},
   "outputs": [
    {
     "data": {
      "text/plain": [
       "[65537.56552328116]"
      ]
     },
     "execution_count": 4,
     "metadata": {},
     "output_type": "execute_result"
    }
   ],
   "source": [
    "a = [2]\n",
    "\n",
    "a = ts.ckks_vector(ctx_training, a)\n",
    "\n",
    "z1 = a * a + a * a\n",
    "z2 = a * a + a * a\n",
    "z1 = z1 * z1\n",
    "z2 = z2 * z2\n",
    "z3 = z1 * a + z2 * a\n",
    "z4 = z3 * z3\n",
    "z4.decrypt()"
   ]
  },
  {
   "cell_type": "code",
   "execution_count": 2,
   "metadata": {},
   "outputs": [],
   "source": [
    "poly_mod_degree = 2 ** 13\n",
    "bits_scale = 40\n",
    "\n",
    "coeff_mod_bit_sizes=[60, bits_scale, 60]\n",
    "ctx_training = ts.context(ts.SCHEME_TYPE.CKKS, poly_mod_degree, -1, coeff_mod_bit_sizes)\n",
    "\n",
    "ctx_training.global_scale = pow(2, bits_scale)\n",
    "ctx_training.generate_galois_keys()"
   ]
  },
  {
   "cell_type": "code",
   "execution_count": 3,
   "metadata": {},
   "outputs": [
    {
     "data": {
      "text/plain": [
       "[65536.07922127847]"
      ]
     },
     "execution_count": 3,
     "metadata": {},
     "output_type": "execute_result"
    }
   ],
   "source": [
    "a = [2]\n",
    "\n",
    "a = ts.ckks_vector(ctx_training, a)\n",
    "\n",
    "def recrypt(variable):\n",
    "    decrypt = variable.decrypt()\n",
    "    return ts.ckks_vector(ctx_training,decrypt)\n",
    "\n",
    "z1 = a * a + a * a\n",
    "z2 = a * a + a * a\n",
    "\n",
    "z1 = recrypt(z1)\n",
    "z2 = recrypt(z2)\n",
    "\n",
    "z1 = z1 * z1\n",
    "z2 = z2 * z2\n",
    "\n",
    "z1 = recrypt(z1)\n",
    "z2 = recrypt(z2)\n",
    "\n",
    "z3 = z1 * a + z2 * a\n",
    "\n",
    "z3 = recrypt(z3)\n",
    "\n",
    "z4 = z3 * z3\n",
    "z4.decrypt()"
   ]
  }
 ],
 "metadata": {
  "interpreter": {
   "hash": "8f7bcc9c9e9fc7020bbd4d78b5067a4b842b19b8327d3657c3117d34f6877e4d"
  },
  "kernelspec": {
   "display_name": "Python 3.10.4 ('projektarbeit')",
   "language": "python",
   "name": "python3"
  },
  "language_info": {
   "codemirror_mode": {
    "name": "ipython",
    "version": 3
   },
   "file_extension": ".py",
   "mimetype": "text/x-python",
   "name": "python",
   "nbconvert_exporter": "python",
   "pygments_lexer": "ipython3",
   "version": "3.10.4"
  },
  "orig_nbformat": 4
 },
 "nbformat": 4,
 "nbformat_minor": 2
}
