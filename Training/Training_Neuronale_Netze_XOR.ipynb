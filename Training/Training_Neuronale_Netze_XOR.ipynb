{
 "cells": [
  {
   "cell_type": "markdown",
   "metadata": {},
   "source": [
    "Training durch verschlüsselte Daten\n",
    "==="
   ]
  },
  {
   "cell_type": "markdown",
   "metadata": {},
   "source": [
    "Wenn ein Modell beziehungsweise dessen Gewichte trainiert werden sollen wird das Ergebnis eines Forward Pass verwendet. Dies bedeutet, dass auch die Ableitung der Gewichte ebenfalls verschlüsselt sein wird und somit auch die Gewichte verschlüsselt sind. Das gesamte Modell muss also ebenfalls mit dem Schlüssel des Datenbesitzers verschlüsselt werden."
   ]
  },
  {
   "cell_type": "markdown",
   "metadata": {},
   "source": [
    "Die vorherig verwendete Architektur kann nicht direkt übernommen und muss angepasst werden. Hierfür gibt es verschiedene Möglichkeiten:\n",
    "* Problem für das Training ist die letzte Sigmoid Schicht im Modell für die Inferenz, diese könnte zum Beispiel durch eine Approximation ersetzt werden. Dies würde bedeuten, dass der Kontext für die Verschlüsselung sehr groß sein muss oder aber die verschlüsselten Objekte oft neu verschlüsselt werden (bzw. Bootstrapping)\n",
    "* Die Sigmoid Funktion muss aber nicht unbedingt eingesetzt werden in der letzten Schicht. Es kann auch eine weitere Quadratische Funktion angewendet werden auf die Ausgabe der Schicht. Dies sorgt dafür, dass ein Forward Pass durchgeführt werden kann ohne einen größeren Kontext zu brauchen als bei der Inferenz auf verschlüsselten Daten."
   ]
  },
  {
   "cell_type": "markdown",
   "metadata": {},
   "source": [
    "Interaktive Variante\n",
    "---\n",
    "Die vielen Multiplikationen während dem Training sorgt dafür, dass ein großer Kontext benötigt wird und somit die verschlüsselten Daten sehr viel Platz im Arbeitsspeicher einnehmen und ebenfalls lange für die Berechnung benötigen. Dies ist ab einer bestimmten Multiplikationstiefe nicht mehr effizient, wodurch der Leveled HE Ansatz nicht durchführbar ist. Hierfür sollte also ein Fully HE Ansatz verwendet werden, in welchem das Rauschen der verschlüsselten Objekte öfter zurückgesetzt werden kann. Dies könnte man auch im Leveled HE Ansatz machen, würde aber dazu führen, dass der Besitzer der Daten sehr oft Werte neu verschlüsseln müsste. Dieser Ansatz wird in diesem Beispiel umgesetzt."
   ]
  },
  {
   "cell_type": "code",
   "execution_count": 102,
   "metadata": {},
   "outputs": [],
   "source": [
    "import numpy as np\n",
    "import matplotlib.pyplot as plt\n",
    "import tenseal as ts\n",
    "import time\n",
    "\n",
    "X = np.array([[0, 0, 1, 1], [0, 1, 0, 1]])\n",
    "Y = np.array([[0, 1, 1, 0]])\n",
    "\n",
    "def square(x):\n",
    "    return np.square(x)\n",
    "\n",
    "def square_prime(x):\n",
    "    return 2 * x\n",
    "\n",
    "w1_Training = np.random.rand(2,2)\n",
    "w2_Training = np.random.rand(1,2)\n",
    "b1_Training = np.zeros((2, 1))\n",
    "b2_Training = np.zeros((1, 1))\n",
    "\n",
    "learning_rate = 0.1"
   ]
  },
  {
   "cell_type": "markdown",
   "metadata": {},
   "source": [
    "Für das Beispiel wird ein kleiner Kontext gewählt, damit die verschlüsselten Objekte nicht zu groß werden. Außerdem ist die Methode zur erneuten Verschlüsselung recrypt mit einer Wartezeit versehen, um die Kommunikation zu simulieren."
   ]
  },
  {
   "cell_type": "code",
   "execution_count": 103,
   "metadata": {},
   "outputs": [],
   "source": [
    "poly_mod_degree = 2 ** 13\n",
    "bits_scale = 40\n",
    "\n",
    "coeff_mod_bit_sizes=[60, bits_scale, bits_scale, 60]\n",
    "ctx_training = ts.context(ts.SCHEME_TYPE.CKKS, poly_mod_degree, -1, coeff_mod_bit_sizes)\n",
    "\n",
    "ctx_training.global_scale = pow(2, bits_scale)\n",
    "ctx_training.generate_galois_keys()\n",
    "\n",
    "def encrypt(matrix):\n",
    "    return np.array([[ts.ckks_vector(ctx_training, [value]) for value in column] for column in matrix])\n",
    "\n",
    "def decrypt(matrix):\n",
    "    return np.array([[column.decrypt()[0] for column in row] for row in matrix])\n",
    "\n",
    "def recrypt(matrix):\n",
    "    time.sleep(0.1)\n",
    "    e_value = decrypt(matrix)\n",
    "    return encrypt(e_value)\n",
    "\n",
    "encrypted_X = encrypt(X)\n",
    "encrypted_Y = encrypt(Y)\n",
    "\n",
    "w1_Training = encrypt(w1_Training)\n",
    "w2_Trianing = encrypt(w2_Training)\n",
    "b1_Training = encrypt(b1_Training)\n",
    "b2_Training = encrypt(b2_Training)"
   ]
  },
  {
   "cell_type": "markdown",
   "metadata": {},
   "source": [
    "Im Forward Pass muss durch den Kontext nur nach jeder Aktivierungsfunktion die Daten neu verschlüsselt werden."
   ]
  },
  {
   "cell_type": "code",
   "execution_count": 104,
   "metadata": {},
   "outputs": [],
   "source": [
    "def forward_Training(w1, w2, x):\n",
    "    z1 = np.add(np.dot(w1, x), b1_Training)\n",
    "    a1 = square(z1)\n",
    "\n",
    "    a1 = recrypt(a1)\n",
    "\n",
    "    z2 = np.add(np.dot(w2, a1), b2_Training)\n",
    "    a2 = square(z2)\n",
    "    \n",
    "    a2 = recrypt(a2)\n",
    "    \n",
    "    return z1, a1, z2, a2"
   ]
  },
  {
   "cell_type": "markdown",
   "metadata": {},
   "source": [
    "Ähnlich wie im Forward Pass muss nicht jeder Wert direkt wieder neu verschlüsselt werden, hauptsächlich die Werte, welche weitergegeben werden an vorherige Schichten."
   ]
  },
  {
   "cell_type": "code",
   "execution_count": 105,
   "metadata": {},
   "outputs": [],
   "source": [
    "def backward_Training(w1, w2, z1, a1, z2, a2, x, y):\n",
    "    dz2 = a2 - y\n",
    "    dw2 = np.dot(dz2, a1.T)\n",
    "    db2 = np.sum(dz2, axis = 1, keepdims = True)\n",
    "    da1 = np.dot(w2.T, dz2)\n",
    "    da1 = recrypt(da1)\n",
    "\n",
    "    a_error = square_prime(z1)\n",
    "    a_error = recrypt(a_error)\n",
    "    dz1 = np.multiply(da1, a_error)\n",
    "    dz1 = recrypt(dz1)\n",
    "    dw1 = np.dot(dz1, x.T)\n",
    "    db1 = np.sum(dz1, axis = 1, keepdims = True)\n",
    "\n",
    "    return dw1, db1, dw2, db2"
   ]
  },
  {
   "cell_type": "markdown",
   "metadata": {},
   "source": [
    "Das Training ist fast gleich wie das unverschlüsselte Training. Der einzige Unterschied ist, dass nach dem Verändern der Gewichte es wichtig ist diese wieder neu zu verschlüsseln."
   ]
  },
  {
   "cell_type": "code",
   "execution_count": 106,
   "metadata": {},
   "outputs": [],
   "source": [
    "iterations = 100\n",
    "for i in range(iterations):\n",
    "    z1, a1, z2, a2 = forward_Training(w1_Training, w2_Training, encrypted_X)\n",
    "\n",
    "    dw1, db1, dw2, db2 = backward_Training(w1_Training,w2_Training,z1,a1,z2,a2,encrypted_X,encrypted_Y)\n",
    "\n",
    "    w2_Training = w2_Training - learning_rate * dw2\n",
    "    w1_Training = w1_Training - learning_rate * dw1\n",
    "    b2_Training = b2_Training - learning_rate * db2\n",
    "    b1_Training = b1_Training - learning_rate * db1\n",
    "\n",
    "    w2_Training = recrypt(w2_Training)\n",
    "    w1_Training = recrypt(w1_Training)\n",
    "    b2_Training = recrypt(b2_Training)\n",
    "    b1_Training = recrypt(b1_Training)"
   ]
  },
  {
   "cell_type": "markdown",
   "metadata": {},
   "source": [
    "Nach dem verschlüsselten Training können die Gewichte wieder entschlüsselt werden. Dadurch kann die Inferenz effizienter durchgeführt werden oder falls der Datenbesitzer dies nicht möchte kann auch auf einem verschlüsselten Modell Inferenz durchgeführt werden."
   ]
  },
  {
   "cell_type": "code",
   "execution_count": 107,
   "metadata": {},
   "outputs": [],
   "source": [
    "result_w1_Training = decrypt(w1_Training)\n",
    "result_w2_Training = decrypt(w2_Training)\n",
    "result_b1_Training = decrypt(b1_Training)\n",
    "result_b2_Training = decrypt(b2_Training)"
   ]
  },
  {
   "cell_type": "markdown",
   "metadata": {},
   "source": [
    "Für die Inferenz muss noch eine weitere Funktion erstellt werden, da nicht angenommen wird, dass die Eingaben neu verschlüsselt werden müssen."
   ]
  },
  {
   "cell_type": "code",
   "execution_count": 108,
   "metadata": {},
   "outputs": [],
   "source": [
    "def crypted_forward(w1, w2, b1, b2, x):\n",
    "    z1 = np.add(np.dot(w1, x), b1)\n",
    "    a1 = square(z1)\n",
    "    z2 = np.add(np.dot(w2, a1), b2)\n",
    "    z3 = square(z2)\n",
    "    return z3   "
   ]
  },
  {
   "cell_type": "code",
   "execution_count": 109,
   "metadata": {},
   "outputs": [
    {
     "name": "stdout",
     "output_type": "stream",
     "text": [
      "[0, 0]  --> 0\n",
      "[0, 1]  --> 1\n",
      "[1, 0]  --> 1\n",
      "[1, 1]  --> 0\n"
     ]
    }
   ],
   "source": [
    "def predict(w1,w2,b1,b2,input):\n",
    "    a2 = crypted_forward(w1,w2,b1,b2,test)\n",
    "    a2 = np.squeeze(a2)\n",
    "    if a2>=0.5:\n",
    "        print([i[0] for i in input], \" --> 1\")\n",
    "    else:\n",
    "        print([i[0] for i in input], \" --> 0\")\n",
    "\n",
    "test = np.array([[0],[0]])\n",
    "predict(result_w1_Training,result_w2_Training,result_b1_Training,result_b2_Training,test)\n",
    "test = np.array([[0],[1]])\n",
    "predict(result_w1_Training,result_w2_Training,result_b1_Training,result_b2_Training,test)\n",
    "test = np.array([[1],[0]])\n",
    "predict(result_w1_Training,result_w2_Training,result_b1_Training,result_b2_Training,test)\n",
    "test = np.array([[1],[1]])\n",
    "predict(result_w1_Training,result_w2_Training,result_b1_Training,result_b2_Training,test)"
   ]
  },
  {
   "cell_type": "markdown",
   "metadata": {},
   "source": [
    "Solange die Methode recrypt nicht mit einer Wartezeit versehen ist, ist es schneller mit einem kleineren Kontext die Gewichte zu trainieren. Dies ändert sich aber sobald eine Wartezeit nach dem Aufruf der Methode eingebaut wird. Dies kommt von der erhöhten Anzahl der notwendigen erneuten Verschlüsselungen. Dies bedeutet, dass es ratsam ist eine Balance zu finden, damit die Berechnungen nicht zu lange dauern und wenig Kommunikation mit dem Datenbesitzer stattfindet."
   ]
  }
 ],
 "metadata": {
  "interpreter": {
   "hash": "8f7bcc9c9e9fc7020bbd4d78b5067a4b842b19b8327d3657c3117d34f6877e4d"
  },
  "kernelspec": {
   "display_name": "Python 3.10.4 ('projektarbeit')",
   "language": "python",
   "name": "python3"
  },
  "language_info": {
   "codemirror_mode": {
    "name": "ipython",
    "version": 3
   },
   "file_extension": ".py",
   "mimetype": "text/x-python",
   "name": "python",
   "nbconvert_exporter": "python",
   "pygments_lexer": "ipython3",
   "version": "3.10.4"
  },
  "orig_nbformat": 4
 },
 "nbformat": 4,
 "nbformat_minor": 2
}
