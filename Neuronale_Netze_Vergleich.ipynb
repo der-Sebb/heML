{
 "cells": [
  {
   "cell_type": "markdown",
   "metadata": {},
   "source": [
    "Inferenz und Training Vergleiche\n",
    "---\n",
    "In diesem Notebook wird die Laufzeit und Genauigkeit zwischen den verschlüsselten und unverschlüsselten Modellen verglichen."
   ]
  },
  {
   "cell_type": "markdown",
   "metadata": {},
   "source": [
    "Genauigkeit\n",
    "---\n",
    "Vergleiche zur Genauigkeit finden sich für die Inferenz und das Training in allen Notebooks. In den Vergleichen zu den verschlüsselten und unverschlüsselten Inferenzen hat sich gezeigt, dass es bei den Ergebnissen keinen Unterschied gibt. In beiden Domänen wurde für jede Eingabe die gleiche Ausgabe produziert. Vergleichbare Ergebnisse gab es auch während dem Training. Wenn die gleiche Architektur und Hyperparameter für das unverschlüsselte und verschlüsselte Training eingesetzt wurden gab es keinen Unterschied bis auf die normale Varianz in der Genauigkeit im Training von Neuronalen Netzen. Der einzige Unterschied in der Genauigkeit besteht darin, dass für das verschlüsselte Training verschiedene Bereiche umstrukturiert werden müssen wie zum Beispiel die Aktivierungsfunktion und damit ein unverschlüsselte Modell auf herkömmliche Methoden zurückgreifen kann."
   ]
  },
  {
   "cell_type": "markdown",
   "metadata": {},
   "source": [
    "Laufzeit\n",
    "---\n",
    "Die beiden Variante (verschlüsselt, unverschlüsselt) werden in der Inferenz und Training auf ihre Laufzeit untersucht. Dabei wird der Iris Datensatz verwendet. Die Architektur der Modelle ist bei den verschlüsselten und unverschlüsselten Modellen gleich. Für den Vergleich in der Inferenz wurde der Iris Datensatz mit unterschiedlich vielen Eingabedaten verwendet. Die verwendete Architektur in den Neuronalen Netze besteht dabei aus 4 Eingaben, einer verdeckten Schicht mit 4 Neuronen und die Ausgabeschicht mit 3 Neuronen. Als Aktivierungsfunktion wurde die Quadratische Aktivierungsfunktion verwendet."
   ]
  },
  {
   "cell_type": "code",
   "execution_count": 2,
   "metadata": {},
   "outputs": [
    {
     "name": "stdout",
     "output_type": "stream",
     "text": [
      "Normal Inference:  (100, 997200)\n",
      "HE Inference:  (100, 6748742000)\n",
      "Normal Inference:  (250, 4019500)\n",
      "HE Inference:  (250, 16893784300)\n",
      "Normal Inference:  (500, 7978500)\n",
      "HE Inference:  (500, 33679587600)\n"
     ]
    }
   ],
   "source": [
    "from util.benchmark import Benchmark\n",
    "\n",
    "test = Benchmark()\n",
    "test.benchmark_inference()"
   ]
  },
  {
   "cell_type": "markdown",
   "metadata": {},
   "source": [
    "Wie erwartet ist die Inferenz auf den unverschlüsselten Daten deutlich schneller als die auf den verschlüsselten Daten."
   ]
  },
  {
   "cell_type": "markdown",
   "metadata": {},
   "source": [
    "|Typ|Zeit für 100 Daten|Zeit für 250 Daten|Zeit für 500 Daten|\n",
    "|---|---|---|---|\n",
    "|Unverschlüsselt|0,99 Millisekunden|4,02 Millisekunden|7,98 Millisekunden|\n",
    "|Verschlüsselt|6,75 Sekunden|16,89 Sekunden|33,68 Sekunden|"
   ]
  },
  {
   "cell_type": "markdown",
   "metadata": {},
   "source": [
    "Als nächstes wird noch die Trainingslaufzeit zwischen der unverschlüsselten und verschlüsselten Variante überprüft. Dabei werden beide Modelle für 10 Epochen trainiert, lernen beide mit einer Lernrate von 0.002 und pro Durchlauf wird eine Batch size von 8 verwendet. Im Vergleich zu den anderen Trainingsdurchläufe in anderen Notebooks werden alle Daten vor dem Training verschlüsselt, um die Verschlüsselungszeit nicht zu messen. Das heißt es wird im verschlüsselten Training nur die Zeit für die Verschlüsselung der Gewichte, das Training an sich und das Entschlüsseln der Gewichte gemessen."
   ]
  },
  {
   "cell_type": "code",
   "execution_count": 2,
   "metadata": {},
   "outputs": [
    {
     "name": "stdout",
     "output_type": "stream",
     "text": [
      "Epochs: 10 - Learning rate: 0.002 - Minibatch: 8\n",
      "Normal Training:  13940300\n",
      "HE Training:  492302912700\n"
     ]
    }
   ],
   "source": [
    "test.benchmark_training(epochs=10, learning_rate=0.002, minibatch=8)"
   ]
  },
  {
   "cell_type": "markdown",
   "metadata": {},
   "source": [
    "Auch hier ist wie in der Inferenz ein großer Unterschied zwischen den beiden Laufzeiten zu erkennen. Dieser Unterschied ist im Training noch größer da das Training klassischer Weise länger dauert als die Inferenz."
   ]
  },
  {
   "cell_type": "markdown",
   "metadata": {},
   "source": [
    "|Typ|Zeit für Training|\n",
    "|---|---|\n",
    "|Unverschlüsselt|13,94 Millisekunden|\n",
    "|Verschlüsselt|8,20 Minuten|"
   ]
  }
 ],
 "metadata": {
  "interpreter": {
   "hash": "8f7bcc9c9e9fc7020bbd4d78b5067a4b842b19b8327d3657c3117d34f6877e4d"
  },
  "kernelspec": {
   "display_name": "Python 3.10.4 ('projektarbeit')",
   "language": "python",
   "name": "python3"
  },
  "language_info": {
   "codemirror_mode": {
    "name": "ipython",
    "version": 3
   },
   "file_extension": ".py",
   "mimetype": "text/x-python",
   "name": "python",
   "nbconvert_exporter": "python",
   "pygments_lexer": "ipython3",
   "version": "3.10.4"
  },
  "orig_nbformat": 4
 },
 "nbformat": 4,
 "nbformat_minor": 2
}
