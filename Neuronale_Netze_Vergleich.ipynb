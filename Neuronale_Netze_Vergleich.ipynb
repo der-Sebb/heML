{
 "cells": [
  {
   "cell_type": "markdown",
   "metadata": {},
   "source": [
    "Inferenz und Training Benchmark\n",
    "---"
   ]
  },
  {
   "cell_type": "code",
   "execution_count": 1,
   "metadata": {},
   "outputs": [],
   "source": [
    "from util.benchmark import Benchmark\n",
    "\n",
    "test = Benchmark()"
   ]
  },
  {
   "cell_type": "code",
   "execution_count": 2,
   "metadata": {},
   "outputs": [
    {
     "name": "stdout",
     "output_type": "stream",
     "text": [
      "Normal Inference:  (100, 997200)\n",
      "HE Inference:  (100, 6748742000)\n",
      "Normal Inference:  (250, 4019500)\n",
      "HE Inference:  (250, 16893784300)\n",
      "Normal Inference:  (500, 7978500)\n",
      "HE Inference:  (500, 33679587600)\n"
     ]
    }
   ],
   "source": [
    "test.benchmark_inference()"
   ]
  },
  {
   "cell_type": "code",
   "execution_count": 2,
   "metadata": {},
   "outputs": [
    {
     "name": "stdout",
     "output_type": "stream",
     "text": [
      "Epochs: 10 - Learning rate: 0.002 - Minibatch: 8\n",
      "Normal Training:  13940300\n",
      "HE Training:  492302912700\n"
     ]
    }
   ],
   "source": [
    "test.benchmark_training(epochs=10, learning_rate=0.002, minibatch=8)"
   ]
  }
 ],
 "metadata": {
  "interpreter": {
   "hash": "8f7bcc9c9e9fc7020bbd4d78b5067a4b842b19b8327d3657c3117d34f6877e4d"
  },
  "kernelspec": {
   "display_name": "Python 3.10.4 ('projektarbeit')",
   "language": "python",
   "name": "python3"
  },
  "language_info": {
   "codemirror_mode": {
    "name": "ipython",
    "version": 3
   },
   "file_extension": ".py",
   "mimetype": "text/x-python",
   "name": "python",
   "nbconvert_exporter": "python",
   "pygments_lexer": "ipython3",
   "version": "3.10.4"
  },
  "orig_nbformat": 4
 },
 "nbformat": 4,
 "nbformat_minor": 2
}
