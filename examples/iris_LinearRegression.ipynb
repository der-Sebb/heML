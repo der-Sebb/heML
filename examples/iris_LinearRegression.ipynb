{
 "cells": [
  {
   "cell_type": "markdown",
   "metadata": {},
   "source": [
    "Lineare Regression\n",
    "---\n",
    "Als ersten Anwendungsfall wird ein simples Maschinellen Lernen Verfahren betrachtet, die Lineare Regression. Hierbei wird ein mathematisches Modell durch Trainingsdaten erstellt, welches verwendet werden kann um ein ausgewähltes Feature vorherzusagen. Ein überschaubarer Datensatz für diese Aufgabe wäre zum Beispiel der Iris Datensatz. Dieser beinhaltet Features von drei verschiedenen Blumenarten, welche wiederum durch eine lineare Regression bestimmt werden können.\n",
    "<br />\n",
    "Zunächst muss dafür der Datensatz geladen und in die Trainings- und Testmenge aufgeteilt werden. Die beiden Mengen stehen dabei in einem 80% Trainingsdaten - 20% Testdaten Verhältnis."
   ]
  },
  {
   "cell_type": "code",
   "execution_count": 19,
   "metadata": {},
   "outputs": [],
   "source": [
    "# Import Dataset from sklearn\n",
    "from sklearn.datasets import load_iris\n",
    "from sklearn.model_selection import train_test_split\n",
    "from sklearn.metrics import mean_absolute_error, mean_squared_error\n",
    "from sklearn.linear_model import LinearRegression\n",
    "import numpy as np\n",
    "from sklearn.preprocessing import StandardScaler\n",
    "import datetime\n",
    "\n",
    "iris = load_iris()\n",
    "X = iris['data']\n",
    "y = iris['target']\n",
    "names = iris['target_names']\n",
    "feature_names = iris['feature_names']\n",
    "\n",
    "scaler = StandardScaler()\n",
    "X_scaled = scaler.fit_transform(X)\n",
    "\n",
    "X_train, X_test, y_train, y_test = train_test_split(\n",
    "    X_scaled, y, test_size=0.2, random_state=2)"
   ]
  },
  {
   "cell_type": "markdown",
   "metadata": {},
   "source": [
    "Bibliotheken Beispiel\n",
    "---\n",
    "Um einen Eindruck für eine Lineare Regression auf dem Iris Datensatz zu erhalten wird zuerst die Sklearn Implementierung ausprobiert. Die berechneten Abweichungen von den Ergebnissen können wiederum verglichen werden mit weiteren Tests."
   ]
  },
  {
   "cell_type": "code",
   "execution_count": 20,
   "metadata": {},
   "outputs": [
    {
     "name": "stdout",
     "output_type": "stream",
     "text": [
      "Mean Absolute Error: 0.1584601230068247\n",
      "Mean Squared Error: 0.043573599004634006\n",
      "Mean Root Squared Error: 0.20874290168682144\n"
     ]
    }
   ],
   "source": [
    "lr = LinearRegression()\n",
    "\n",
    "lr.fit(X_train, y_train)\n",
    "\n",
    "lr.predict(X_test)\n",
    "pred = lr.predict(X_test)\n",
    "\n",
    "print('Mean Absolute Error:', mean_absolute_error(y_test, pred))\n",
    "print('Mean Squared Error:', mean_squared_error(y_test, pred))\n",
    "print('Mean Root Squared Error:', np.sqrt(mean_squared_error(y_test, pred)))"
   ]
  },
  {
   "cell_type": "markdown",
   "metadata": {},
   "source": [
    "From Scratch\n",
    "---\n",
    "Da die Implementierung aus Sklearn nicht jeden Datentyp unterstützt muss die Lineare Regression selbst implementiert werden. Der Grund dafür liegt in der homomorphen Verschlüsselung. Sobald eine beliebige Zahl verschlüsselt wurde, ist diese keine gewöhnliche Zahl mehr sonder ein verschlüsseltes Objekt und die meisten Bibliotheken erlauben als Parameter nur Zahlen beziehungsweise primitive Datentypen.\n",
    "<br />\n",
    "Für die Lineare Regression werden zwei Funktionen implementiert:\n",
    "* Fit: In dieser Funktion werden die Gewichte w in der Lineare Regression basierend auf den Trainingsdaten erstellt. Dies geschieht indem immer wieder mit den Gewichten Vorhersagen erstellt werden und verändert werden bis diese konvergieren.\n",
    "* Predict: In dieser Funktion wird die Vorhersage mit einer beliebigen Eingabe und den in der Predict Funktion berechneten Gewichte erzeugt."
   ]
  },
  {
   "cell_type": "code",
   "execution_count": 21,
   "metadata": {},
   "outputs": [],
   "source": [
    "def fit(x, y):\n",
    "\tregression = np.c_[x, np.ones(len(x))]\n",
    "\n",
    "\tweights = np.ones(regression.shape[1])\n",
    "\n",
    "\tnorma = 1\n",
    "\tlearning_rate = 0.00001\n",
    "\tepsilon = 0.9\n",
    "\twhile(norma > epsilon):\n",
    "\t\ty_pred = regression @ weights.T\n",
    "\t\tpartial = regression.T @ (y - y_pred)\n",
    "\t\tnorma = np.sum(np.sqrt(np.square(partial)))\n",
    "\n",
    "\t\tweights = weights.T + (learning_rate * partial)\n",
    "\n",
    "\treturn weights\n",
    "\n",
    "def predict(w, x):\n",
    "\treturn w[:-1] @ (np.array(x).T) + w[-1]\n"
   ]
  },
  {
   "cell_type": "markdown",
   "metadata": {},
   "source": [
    "Nachdem die Funktionen implementiert sind können die Gewichte erstellt werden mit den Trainingsdaten. Sobald diese berechnet sind wird ein Feature von den Testdaten vorhersagt. Dabei wird noch die Laufzeit der Vorhersage gemessen um später mit den anderen Tests verglichen zu werden.\n",
    "<br />\n",
    "Die erstellten Gewichte können in den Tests mit der homomorphen Verschlüsselung wieder verwendet werden."
   ]
  },
  {
   "cell_type": "code",
   "execution_count": 22,
   "metadata": {},
   "outputs": [
    {
     "name": "stdout",
     "output_type": "stream",
     "text": [
      "Mean Absolute Error: 0.15791782248674335\n",
      "Mean Squared Error: 0.042219357807520355\n",
      "Mean Root Squared Error: 0.2054734966060595\n",
      "Prediction time for original: 0ms\n"
     ]
    }
   ],
   "source": [
    "weights = fit(X_train, y_train)\n",
    "\n",
    "s_predict = datetime.datetime.now()\n",
    "pred = predict(weights, X_test)\n",
    "e_predict = datetime.datetime.now()\n",
    "\n",
    "def meanError(y_test, pred):\n",
    "\tprint('Mean Absolute Error:', mean_absolute_error(y_test, pred))\n",
    "\tprint('Mean Squared Error:', mean_squared_error(y_test, pred))\n",
    "\tprint('Mean Root Squared Error:', np.sqrt(mean_squared_error(y_test, pred)))\n",
    "\n",
    "meanError(y_test, pred)\n",
    "\n",
    "print(f\"Prediction time for original: {int((e_predict-s_predict).total_seconds() * 1000)}ms\")\n",
    "\n",
    "def timer(encryptTime, predictTime, decryptTime):\n",
    "\tprint(f\"Encryption time: {int(encryptTime.total_seconds() * 1000)}ms\")\n",
    "\tprint(f\"Prediction time: {int(predictTime.total_seconds() * 1000)}ms\")\n",
    "\tprint(f\"Decryption time: {int(decryptTime.total_seconds() * 1000)}ms\")\n"
   ]
  },
  {
   "cell_type": "markdown",
   "metadata": {},
   "source": [
    "Die berechneten Abweichung zwischen den Vorhersagen und den tatsächlichen Features sind ähnlich zu den Ergebnissen der Sklearn Implementierung und weisen erst ab der 3. Nachkommastelle Unterschiede auf. Die eigene Implementierung scheint dadurch korrekt zu funktionieren."
   ]
  },
  {
   "cell_type": "markdown",
   "metadata": {},
   "source": [
    "Vorhersagen auf verschlüsselten Daten\n",
    "===\n",
    "In den folgenden zwei Beispielen werden die mit unverschlüsselten Daten trainierten Gewichte angewendet auf verschlüsselte Daten."
   ]
  },
  {
   "cell_type": "markdown",
   "metadata": {},
   "source": [
    "Verschlüsselung mit Pyfhel\n",
    "---"
   ]
  },
  {
   "cell_type": "code",
   "execution_count": 23,
   "metadata": {},
   "outputs": [],
   "source": [
    "from Pyfhel import Pyfhel\n",
    "\n",
    "pyfhel = Pyfhel()\n",
    "pyfhel.contextGen(p=65537)\n",
    "\n",
    "pyfhel.keyGen()\n",
    "\n",
    "def encrypt(data):\n",
    "    return [[pyfhel.encryptFrac(feature) for feature in item] for item in data]\n",
    "\n",
    "def decrypt(data):\n",
    "    return [pyfhel.decryptFrac(item) for item in data]"
   ]
  },
  {
   "cell_type": "markdown",
   "metadata": {},
   "source": [
    "Für diese Bibliothek muss die predict Funktion etwas umgeschrieben werden, da die Matrizenmultiplikation Operation nicht funktioniert zwischen Skalaren und verschlüsselten Objekten."
   ]
  },
  {
   "cell_type": "code",
   "execution_count": 24,
   "metadata": {},
   "outputs": [],
   "source": [
    "def predictPyfhel(w, x):\n",
    "    transX = np.array(x).T\n",
    "    result = []\n",
    "    for i in range(transX.shape[1]):\n",
    "        for j in range(transX.shape[0]):\n",
    "            scaledFeature = transX[j][i] * w[j]\n",
    "            if len(result) == i:\n",
    "                result.append(scaledFeature)\n",
    "            else:\n",
    "                result[i] = result[i] + scaledFeature\n",
    "    return np.array(result) + w[-1]"
   ]
  },
  {
   "cell_type": "markdown",
   "metadata": {},
   "source": [
    "Als letzter Schritt werden alle Testdaten verschlüsselt, die Vorhersage erzeugt und das Ergebnis entschlüsselt."
   ]
  },
  {
   "cell_type": "code",
   "execution_count": 25,
   "metadata": {},
   "outputs": [
    {
     "name": "stdout",
     "output_type": "stream",
     "text": [
      "Mean Absolute Error: 0.1579178223464017\n",
      "Mean Squared Error: 0.04221935761486088\n",
      "Mean Root Squared Error: 0.20547349613724122\n",
      "Encryption time: 125ms\n",
      "Prediction time: 18ms\n",
      "Decryption time: 3ms\n"
     ]
    }
   ],
   "source": [
    "s_encrypt = datetime.datetime.now()\n",
    "eX_test = encrypt(X_test)\n",
    "e_encrypt = datetime.datetime.now()\n",
    "\n",
    "s_predict = datetime.datetime.now()\n",
    "ePred = predictPyfhel(weights, eX_test)\n",
    "e_predict = datetime.datetime.now()\n",
    "\n",
    "s_decrypt = datetime.datetime.now()\n",
    "cryptPred = decrypt(ePred)\n",
    "e_decrypt = datetime.datetime.now()\n",
    "\n",
    "meanError(y_test, cryptPred)\n",
    "timer(e_encrypt-s_encrypt, e_predict-s_predict, e_decrypt-s_decrypt)"
   ]
  },
  {
   "cell_type": "markdown",
   "metadata": {},
   "source": [
    "* Funktionalität: Ergebnisse sind fast identisch zum Original (Abweichungen in der Gleitkommarepräsentation)\n",
    "* Laufzeit: Fast gleich schnell wie die Implementierung"
   ]
  },
  {
   "cell_type": "markdown",
   "metadata": {},
   "source": [
    "Verschlüsselung mit Paillier\n",
    "---"
   ]
  },
  {
   "cell_type": "code",
   "execution_count": 26,
   "metadata": {},
   "outputs": [],
   "source": [
    "from phe import paillier\n",
    "\n",
    "public_key, private_key = paillier.generate_paillier_keypair()\n",
    "\n",
    "def encrypt(data):\n",
    "    return [[public_key.encrypt(feature) for feature in item] for item in data]\n",
    "\n",
    "def decrypt(data):\n",
    "    return [private_key.decrypt(item) for item in data]"
   ]
  },
  {
   "cell_type": "markdown",
   "metadata": {},
   "source": [
    "Für die Paillier Bibliothek in Python muss keine gesonderte predict Funktion implementiert werden, da die Matrizenmultiplikation möglich ist. Dadurch müssen nur noch die Daten verschlüsselt, die Vorhersage erzeugt und das Ergebnis entschlüsselt werden."
   ]
  },
  {
   "cell_type": "code",
   "execution_count": 27,
   "metadata": {},
   "outputs": [
    {
     "name": "stdout",
     "output_type": "stream",
     "text": [
      "Mean Absolute Error: 0.15791782248674335\n",
      "Mean Squared Error: 0.042219357807520355\n",
      "Mean Root Squared Error: 0.2054734966060595\n",
      "Encryption time: 9626ms\n",
      "Prediction time: 490ms\n",
      "Decryption time: 692ms\n"
     ]
    }
   ],
   "source": [
    "s_encrypt = datetime.datetime.now()\n",
    "eX_test = encrypt(X_test)\n",
    "e_encrypt = datetime.datetime.now()\n",
    "\n",
    "s_predict = datetime.datetime.now()\n",
    "ePred = predict(weights, eX_test)\n",
    "e_predict = datetime.datetime.now()\n",
    "\n",
    "s_decrypt = datetime.datetime.now()\n",
    "cryptPred = decrypt(ePred)\n",
    "e_decrypt = datetime.datetime.now()\n",
    "\n",
    "meanError(y_test, cryptPred)\n",
    "timer(e_encrypt-s_encrypt, e_predict-s_predict, e_decrypt-s_decrypt)"
   ]
  },
  {
   "cell_type": "markdown",
   "metadata": {},
   "source": [
    "* Funktionalität: Identisches Ergebnis zu der unverschlüsselten Version\n",
    "* Laufzeit: Benötigt deutlich länger"
   ]
  }
 ],
 "metadata": {
  "interpreter": {
   "hash": "a80ebf7ba738d5968b5f1bcd52e7a8cb27667057b121d5baaff5559180a4990f"
  },
  "kernelspec": {
   "display_name": "Python 3.10.4 ('projektarbeit')",
   "language": "python",
   "name": "python3"
  },
  "language_info": {
   "codemirror_mode": {
    "name": "ipython",
    "version": 3
   },
   "file_extension": ".py",
   "mimetype": "text/x-python",
   "name": "python",
   "nbconvert_exporter": "python",
   "pygments_lexer": "ipython3",
   "version": "3.10.4"
  },
  "orig_nbformat": 4
 },
 "nbformat": 4,
 "nbformat_minor": 2
}
