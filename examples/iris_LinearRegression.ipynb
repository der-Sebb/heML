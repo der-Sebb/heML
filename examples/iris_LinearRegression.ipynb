{
 "cells": [
  {
   "cell_type": "markdown",
   "metadata": {},
   "source": [
    "Lineare Regression\n",
    "---"
   ]
  },
  {
   "cell_type": "code",
   "execution_count": 52,
   "metadata": {},
   "outputs": [],
   "source": [
    "# Import Dataset from sklearn\n",
    "from sklearn.datasets import load_iris\n",
    "import pandas as pd\n",
    "from sklearn.model_selection import train_test_split\n",
    "from sklearn.metrics import mean_absolute_error, mean_squared_error\n",
    "from sklearn.linear_model import LinearRegression\n",
    "import numpy as np\n",
    "from sklearn.preprocessing import StandardScaler\n",
    "import datetime\n",
    "\n",
    "iris = load_iris()\n",
    "X = iris['data']\n",
    "y = iris['target']\n",
    "names = iris['target_names']\n",
    "feature_names = iris['feature_names']\n",
    "\n",
    "scaler = StandardScaler()\n",
    "X_scaled = scaler.fit_transform(X)\n",
    "\n",
    "X_train, X_test, y_train, y_test = train_test_split(\n",
    "    X_scaled, y, test_size=0.2, random_state=2)"
   ]
  },
  {
   "cell_type": "markdown",
   "metadata": {},
   "source": [
    "Bibliotheken Beispiel\n",
    "---"
   ]
  },
  {
   "cell_type": "code",
   "execution_count": 53,
   "metadata": {},
   "outputs": [
    {
     "name": "stdout",
     "output_type": "stream",
     "text": [
      "Mean Absolute Error: 0.1584601230068247\n",
      "Mean Squared Error: 0.043573599004634006\n",
      "Mean Root Squared Error: 0.20874290168682144\n"
     ]
    }
   ],
   "source": [
    "# Instantiating LinearRegression() Model\n",
    "lr = LinearRegression()\n",
    "\n",
    "# Training/Fitting the Model\n",
    "lr.fit(X_train, y_train)\n",
    "\n",
    "# Making Predictions\n",
    "lr.predict(X_test)\n",
    "pred = lr.predict(X_test)\n",
    "\n",
    "# Evaluating Model's Performance\n",
    "print('Mean Absolute Error:', mean_absolute_error(y_test, pred))\n",
    "print('Mean Squared Error:', mean_squared_error(y_test, pred))\n",
    "print('Mean Root Squared Error:', np.sqrt(mean_squared_error(y_test, pred)))"
   ]
  },
  {
   "cell_type": "markdown",
   "metadata": {},
   "source": [
    "From Scratch\n",
    "---"
   ]
  },
  {
   "cell_type": "code",
   "execution_count": 62,
   "metadata": {},
   "outputs": [
    {
     "name": "stdout",
     "output_type": "stream",
     "text": [
      "Mean Absolute Error: 0.15791782248674335\n",
      "Mean Squared Error: 0.042219357807520355\n",
      "Mean Root Squared Error: 0.2054734966060595\n",
      "Prediction time for original: 0ms\n"
     ]
    }
   ],
   "source": [
    "def fit(x, y):\n",
    "\tregression = np.c_[x, np.ones(len(x))]\n",
    "\n",
    "\tweights = np.ones(regression.shape[1])\n",
    "\n",
    "\tnorma = 1\n",
    "\tlearning_rate = 0.00001\n",
    "\tepsilon = 0.9\n",
    "\twhile(norma > epsilon):\n",
    "\t\ty_pred = regression @ weights.T\n",
    "\t\tpartial = regression.T @ (y - y_pred)\n",
    "\t\tnorma = np.sum(np.sqrt(np.square(partial)))\n",
    "\n",
    "\t\tweights = weights.T + (learning_rate * partial)\n",
    "\n",
    "\treturn weights\n",
    "\n",
    "def predict(w, x):\n",
    "\treturn w[:-1] @ (np.array(x).T) + w[-1]\n",
    "\n",
    "weights = fit(X_train, y_train)\n",
    "\n",
    "s_predict = datetime.datetime.now()\n",
    "pred = predict(weights, X_test)\n",
    "e_predict = datetime.datetime.now()\n",
    "\n",
    "def meanError(y_test, pred):\n",
    "\tprint('Mean Absolute Error:', mean_absolute_error(y_test, pred))\n",
    "\tprint('Mean Squared Error:', mean_squared_error(y_test, pred))\n",
    "\tprint('Mean Root Squared Error:', np.sqrt(mean_squared_error(y_test, pred)))\n",
    "\n",
    "meanError(y_test, pred)\n",
    "\n",
    "print(f\"Prediction time for original: {int((e_predict-s_predict).total_seconds() * 1000)}ms\")\n",
    "\n",
    "def timer(encryptTime, predictTime, decryptTime):\n",
    "\tprint(f\"Encryption time: {int(encryptTime.total_seconds() * 1000)}ms\")\n",
    "\tprint(f\"Prediction time: {int(predictTime.total_seconds() * 1000)}ms\")\n",
    "\tprint(f\"Decryption time: {int(decryptTime.total_seconds() * 1000)}ms\")\n"
   ]
  },
  {
   "cell_type": "markdown",
   "metadata": {},
   "source": [
    "Verschlüsselung mit Pyfhel\n",
    "---\n",
    "TODO Untersuchen wieso Gewichte verschlüsselt sein müssen"
   ]
  },
  {
   "cell_type": "code",
   "execution_count": 71,
   "metadata": {},
   "outputs": [
    {
     "name": "stdout",
     "output_type": "stream",
     "text": [
      "Mean Absolute Error: 0.1579178223464017\n",
      "Mean Squared Error: 0.04221935761486088\n",
      "Mean Root Squared Error: 0.20547349613724122\n",
      "Encryption time: 124ms\n",
      "Prediction time: 129ms\n",
      "Decryption time: 3ms\n"
     ]
    }
   ],
   "source": [
    "from Pyfhel import Pyfhel\n",
    "\n",
    "pyfhel = Pyfhel()\n",
    "pyfhel.contextGen(p=65537)\n",
    "\n",
    "pyfhel.keyGen()\n",
    "\n",
    "def encrypt(data):\n",
    "    return [[pyfhel.encryptFrac(feature) for feature in item] if not np.isscalar(item) else pyfhel.encryptFrac(item) for item in data]\n",
    "\n",
    "def decrypt(data):\n",
    "    return [pyfhel.decryptFrac(item) for item in data]\n",
    "\n",
    "s_encrypt = datetime.datetime.now()\n",
    "eX_test = encrypt(X_test)\n",
    "eWeight = encrypt(weights)\n",
    "e_encrypt = datetime.datetime.now()\n",
    "\n",
    "s_predict = datetime.datetime.now()\n",
    "ePred = predict(eWeight, eX_test)\n",
    "e_predict = datetime.datetime.now()\n",
    "\n",
    "s_decrypt = datetime.datetime.now()\n",
    "cryptPred = decrypt(ePred)\n",
    "e_decrypt = datetime.datetime.now()\n",
    "\n",
    "meanError(y_test, cryptPred)\n",
    "timer(e_encrypt-s_encrypt, e_predict-s_predict, e_decrypt-s_decrypt)"
   ]
  },
  {
   "cell_type": "markdown",
   "metadata": {},
   "source": [
    "* Funktionalität: Ergebnisse sind fast identisch zum Original (Abweichungen in der Gleitkommarepräsentation)\n",
    "* Laufzeit: Fast gleich schnell wie die Implementierung"
   ]
  },
  {
   "cell_type": "markdown",
   "metadata": {},
   "source": [
    "Verschlüsselung mit Paillier\n",
    "---\n",
    "Hier müssen nur die Daten verschlüsselt werden."
   ]
  },
  {
   "cell_type": "code",
   "execution_count": 67,
   "metadata": {},
   "outputs": [
    {
     "name": "stdout",
     "output_type": "stream",
     "text": [
      "Mean Absolute Error: 0.15791782248674335\n",
      "Mean Squared Error: 0.042219357807520355\n",
      "Mean Root Squared Error: 0.2054734966060595\n",
      "Encryption time: 9756ms\n",
      "Prediction time: 502ms\n",
      "Decryption time: 691ms\n"
     ]
    }
   ],
   "source": [
    "from phe import paillier\n",
    "\n",
    "public_key, private_key = paillier.generate_paillier_keypair()\n",
    "\n",
    "def encrypt(data):\n",
    "    return [[public_key.encrypt(feature) for feature in item] for item in data]\n",
    "\n",
    "def decrypt(data):\n",
    "    return [private_key.decrypt(item) for item in data]\n",
    "\n",
    "s_encrypt = datetime.datetime.now()\n",
    "eX_test = encrypt(X_test)\n",
    "e_encrypt = datetime.datetime.now()\n",
    "\n",
    "s_predict = datetime.datetime.now()\n",
    "ePred = predict(weights, eX_test)\n",
    "e_predict = datetime.datetime.now()\n",
    "\n",
    "s_decrypt = datetime.datetime.now()\n",
    "cryptPred = decrypt(ePred)\n",
    "e_decrypt = datetime.datetime.now()\n",
    "\n",
    "meanError(y_test, cryptPred)\n",
    "timer(e_encrypt-s_encrypt, e_predict-s_predict, e_decrypt-s_decrypt)"
   ]
  },
  {
   "cell_type": "markdown",
   "metadata": {},
   "source": [
    "* Funktionalität: Auch wieder fast identisches Ergebnisse (Gleitkommastellen)\n",
    "* Laufzeit: Benötigt deutlich länger"
   ]
  },
  {
   "cell_type": "markdown",
   "metadata": {},
   "source": [
    "Verschlüsselung mit TenSEAL\n",
    "---"
   ]
  },
  {
   "cell_type": "code",
   "execution_count": 68,
   "metadata": {},
   "outputs": [
    {
     "name": "stdout",
     "output_type": "stream",
     "text": [
      "Mean Absolute Error: 0.15791779883915014\n",
      "Mean Squared Error: 0.042219352759008164\n",
      "Mean Root Squared Error: 0.2054734843209901\n",
      "Encryption time: 614ms\n",
      "Prediction time: 114ms\n",
      "Decryption time: 24ms\n"
     ]
    }
   ],
   "source": [
    "import tenseal as ts\n",
    "\n",
    "ckksContext = ts.context(\n",
    "            ts.SCHEME_TYPE.CKKS,\n",
    "            poly_modulus_degree=8192,\n",
    "            coeff_mod_bit_sizes=[60, 40, 40, 60]\n",
    "          )\n",
    "ckksContext.generate_galois_keys()\n",
    "ckksContext.global_scale = 2**40\n",
    "\n",
    "def encrypt(data, function, localContext):\n",
    "  return [[function(localContext, [feature]) for feature in item] for item in data]\n",
    "\n",
    "def decrypt(data):\n",
    "  return [item.decrypt() for item in data]\n",
    "\n",
    "s_encrypt = datetime.datetime.now()\n",
    "ccks_eX_test = encrypt(X_test, ts.ckks_vector, ckksContext)\n",
    "e_encrypt = datetime.datetime.now()\n",
    "\n",
    "s_predict = datetime.datetime.now()\n",
    "ccks_ePred = predict(weights, ccks_eX_test)\n",
    "e_predict = datetime.datetime.now()\n",
    "\n",
    "s_decrypt = datetime.datetime.now()\n",
    "ccks_cryptPred = decrypt(ccks_ePred)\n",
    "e_decrypt = datetime.datetime.now()\n",
    "\n",
    "meanError(y_test, ccks_cryptPred)\n",
    "timer(e_encrypt-s_encrypt, e_predict-s_predict, e_decrypt-s_decrypt)"
   ]
  },
  {
   "cell_type": "markdown",
   "metadata": {},
   "source": [
    "* Funktionalität: Auch wieder fast identisches Ergebnisse (Gleitkommastellen)\n",
    "* Laufzeit: Langsamer als Original aber trotzdem schneller als Paillier"
   ]
  }
 ],
 "metadata": {
  "interpreter": {
   "hash": "a80ebf7ba738d5968b5f1bcd52e7a8cb27667057b121d5baaff5559180a4990f"
  },
  "kernelspec": {
   "display_name": "Python 3.10.4 ('projektarbeit')",
   "language": "python",
   "name": "python3"
  },
  "language_info": {
   "codemirror_mode": {
    "name": "ipython",
    "version": 3
   },
   "file_extension": ".py",
   "mimetype": "text/x-python",
   "name": "python",
   "nbconvert_exporter": "python",
   "pygments_lexer": "ipython3",
   "version": "3.10.4"
  },
  "orig_nbformat": 4
 },
 "nbformat": 4,
 "nbformat_minor": 2
}
