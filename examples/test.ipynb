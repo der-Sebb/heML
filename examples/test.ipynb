{
 "cells": [
  {
   "cell_type": "code",
   "execution_count": 4,
   "metadata": {},
   "outputs": [
    {
     "name": "stdout",
     "output_type": "stream",
     "text": [
      "epoch 1/1000   error=-0.755898\n",
      "epoch 51/1000   error=-0.126676\n",
      "epoch 101/1000   error=-0.047084\n",
      "epoch 151/1000   error=-0.033261\n",
      "epoch 201/1000   error=-0.026908\n",
      "epoch 251/1000   error=-0.023109\n",
      "epoch 301/1000   error=-0.020525\n",
      "epoch 351/1000   error=-0.018627\n",
      "epoch 401/1000   error=-0.017159\n",
      "epoch 451/1000   error=-0.015981\n",
      "epoch 501/1000   error=-0.015010\n",
      "epoch 551/1000   error=-0.014192\n",
      "epoch 601/1000   error=-0.013491\n",
      "epoch 651/1000   error=-0.012882\n",
      "epoch 701/1000   error=-0.012347\n",
      "epoch 751/1000   error=-0.011871\n",
      "epoch 801/1000   error=-0.011445\n",
      "epoch 851/1000   error=-0.011060\n",
      "epoch 901/1000   error=-0.010711\n",
      "epoch 951/1000   error=-0.010392\n",
      "[array([[0.01700735]]), array([[0.99695544]]), array([[0.99696075]]), array([[0.01700727]])]\n"
     ]
    }
   ],
   "source": [
    "from heNet import Network, FullyConnectedLayer, ActivationLayer\n",
    "from heNet import square, square_prime, sigmoid, sigmoid_prime, cross_entropy, cross_entropy_prime\n",
    "import numpy as np\n",
    "\n",
    "x_train = np.array([[[0,0]], [[0,1]], [[1,0]], [[1,1]]])\n",
    "y_train = np.array([[[0]], [[1]], [[1]], [[0]]])\n",
    "\n",
    "net = Network(debug=True)\n",
    "net.add(FullyConnectedLayer(2, 2))\n",
    "net.add(ActivationLayer(square, square_prime))\n",
    "net.add(FullyConnectedLayer(2, 1))\n",
    "net.add(ActivationLayer(sigmoid, sigmoid_prime))\n",
    "\n",
    "net.use(cross_entropy, cross_entropy_prime)\n",
    "net.fit(x_train, y_train, epochs=1000, learning_rate=1)\n",
    "\n",
    "out = net.predict(x_train)\n",
    "print(out)"
   ]
  }
 ],
 "metadata": {
  "interpreter": {
   "hash": "a80ebf7ba738d5968b5f1bcd52e7a8cb27667057b121d5baaff5559180a4990f"
  },
  "kernelspec": {
   "display_name": "Python 3.10.4 ('projektarbeit')",
   "language": "python",
   "name": "python3"
  },
  "language_info": {
   "codemirror_mode": {
    "name": "ipython",
    "version": 3
   },
   "file_extension": ".py",
   "mimetype": "text/x-python",
   "name": "python",
   "nbconvert_exporter": "python",
   "pygments_lexer": "ipython3",
   "version": "3.10.4"
  },
  "orig_nbformat": 4
 },
 "nbformat": 4,
 "nbformat_minor": 2
}
