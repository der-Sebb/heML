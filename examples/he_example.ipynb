{
 "cells": [
  {
   "cell_type": "markdown",
   "metadata": {},
   "source": [
    "Verschlüsselungs Beispiele in Python\n",
    "==========================\n",
    "Im Folgenden werden die grundlegenden Operationen in verschiedenen Python Bibliotheken ausprobiert."
   ]
  },
  {
   "cell_type": "markdown",
   "metadata": {},
   "source": [
    "Pyfhel Bibliothek\n",
    "-----------------\n",
    "https://pyfhel.readthedocs.io/en/latest/index.html"
   ]
  },
  {
   "cell_type": "markdown",
   "metadata": {},
   "source": [
    "In dem ersten Schritt wird ein Pyfhel Objekt mit einem Schlüsselpaar erstellt, das in den weiteren Schritten die Verschlüsselung und Entschlüsselung ausführen wird."
   ]
  },
  {
   "cell_type": "code",
   "execution_count": 1,
   "metadata": {},
   "outputs": [],
   "source": [
    "from Pyfhel import Pyfhel\n",
    "\n",
    "pyfhel = Pyfhel()\n",
    "pyfhel.contextGen(p=65537)\n",
    "\n",
    "pyfhel.keyGen()"
   ]
  },
  {
   "cell_type": "markdown",
   "metadata": {},
   "source": [
    "Zwei Zahlen werden definiert und dann anschließend verschlüsselt."
   ]
  },
  {
   "cell_type": "code",
   "execution_count": 2,
   "metadata": {},
   "outputs": [],
   "source": [
    "integer1 = 42\n",
    "integer2 = 314\n",
    "ctxt1 = pyfhel.encryptInt(integer1)\n",
    "ctxt2 = pyfhel.encryptInt(integer2)"
   ]
  },
  {
   "cell_type": "markdown",
   "metadata": {},
   "source": [
    "Operationen wie +,- und * können auf den verschlüsselten Daten ausgeführt in dieser Bibliothek. Dies ist auch möglich innerhalb von Numpy Vektoren."
   ]
  },
  {
   "cell_type": "code",
   "execution_count": 9,
   "metadata": {},
   "outputs": [],
   "source": [
    "ctxtSum = ctxt1 + ctxt2        \n",
    "ctxtSub = ctxt1 - ctxt2         \n",
    "ctxtMul = ctxt1 * ctxt2\n",
    "\n",
    "import numpy as np\n",
    "\n",
    "a = np.array([ctxt1, ctxt2])\n",
    "b = np.array([ctxt2, ctxt2])\n",
    "c = a + b"
   ]
  },
  {
   "cell_type": "markdown",
   "metadata": {},
   "source": [
    "Im letzten Schritt werden noch die Ergebnisse entschlüsselt."
   ]
  },
  {
   "cell_type": "code",
   "execution_count": 4,
   "metadata": {},
   "outputs": [
    {
     "name": "stdout",
     "output_type": "stream",
     "text": [
      "addition:       decrypt(ctxt1 + ctxt2) =  356\n",
      "substraction:   decrypt(ctxt1 - ctxt2) =  -272\n",
      "multiplication: decrypt(ctxt1 + ctxt2) =  13188\n",
      "numpy:          decrypt([ctxt1, ctxt2] + [ctxt2, ctxt2]) = (356, 628)\n"
     ]
    }
   ],
   "source": [
    "resSum = pyfhel.decryptInt(ctxtSum)\n",
    "resSub = pyfhel.decryptInt(ctxtSub)\n",
    "resMul = pyfhel.decryptInt(ctxtMul)\n",
    "idx0 = pyfhel.decryptInt(c[0])\n",
    "idx1 = pyfhel.decryptInt(c[1])\n",
    "print(f\"addition:       decrypt(ctxt1 + ctxt2) =  {resSum}\")\n",
    "print(f\"substraction:   decrypt(ctxt1 - ctxt2) =  {resSub}\")\n",
    "print(f\"multiplication: decrypt(ctxt1 + ctxt2) =  {resMul}\")\n",
    "print(f\"numpy:          decrypt([ctxt1, ctxt2] + [ctxt2, ctxt2]) = {idx0,idx1}\")"
   ]
  },
  {
   "cell_type": "markdown",
   "metadata": {},
   "source": [
    "Python-Paillier Bibliothek\n",
    "---\n",
    "https://python-paillier.readthedocs.io/en/develop/"
   ]
  },
  {
   "cell_type": "code",
   "execution_count": 5,
   "metadata": {},
   "outputs": [],
   "source": [
    "from phe import paillier\n",
    "\n",
    "public_key, private_key = paillier.generate_paillier_keypair()"
   ]
  },
  {
   "cell_type": "code",
   "execution_count": 6,
   "metadata": {},
   "outputs": [],
   "source": [
    "secret_number_list = [3.141592653, 300, -4.6e-12]\n",
    "encrypted_number_list = [public_key.encrypt(x) for x in secret_number_list]"
   ]
  },
  {
   "cell_type": "code",
   "execution_count": 7,
   "metadata": {},
   "outputs": [
    {
     "data": {
      "text/plain": [
       "[3.141592653, 300, -4.6e-12]"
      ]
     },
     "execution_count": 7,
     "metadata": {},
     "output_type": "execute_result"
    }
   ],
   "source": [
    "[private_key.decrypt(x) for x in encrypted_number_list]"
   ]
  },
  {
   "cell_type": "markdown",
   "metadata": {},
   "source": [
    "TenSEAL Bibliothek\n",
    "---\n",
    "https://github.com/OpenMined/TenSEAL"
   ]
  },
  {
   "cell_type": "code",
   "execution_count": 8,
   "metadata": {},
   "outputs": [
    {
     "data": {
      "text/plain": [
       "[10.000000260100782]"
      ]
     },
     "execution_count": 8,
     "metadata": {},
     "output_type": "execute_result"
    }
   ],
   "source": [
    "import tenseal as ts\n",
    "\n",
    "# Setup TenSEAL context\n",
    "context = ts.context(\n",
    "            ts.SCHEME_TYPE.CKKS,\n",
    "            poly_modulus_degree=8192,\n",
    "            coeff_mod_bit_sizes=[60, 40, 40, 60]\n",
    "          )\n",
    "context.generate_galois_keys()\n",
    "context.global_scale = 2**40\n",
    "\n",
    "v1 = [0, 1, 2, 3, 4]\n",
    "v2 = [4, 3, 2, 1, 0]\n",
    "\n",
    "# encrypted vectors\n",
    "enc_v1 = ts.ckks_vector(context, v1)\n",
    "enc_v2 = ts.ckks_vector(context, v2)\n",
    "\n",
    "result = enc_v1 + enc_v2\n",
    "result.decrypt() # ~ [4, 4, 4, 4, 4]\n",
    "\n",
    "result = enc_v1.dot(enc_v2)\n",
    "result.decrypt() # ~ [10]"
   ]
  },
  {
   "cell_type": "markdown",
   "metadata": {},
   "source": []
  }
 ],
 "metadata": {
  "interpreter": {
   "hash": "8387c26fa3af141985fb92d0299112c8039b9a94db22c5c95b955fbfc2ae62a6"
  },
  "kernelspec": {
   "display_name": "Python 3.7.11 ('hugging')",
   "language": "python",
   "name": "python3"
  },
  "language_info": {
   "codemirror_mode": {
    "name": "ipython",
    "version": 3
   },
   "file_extension": ".py",
   "mimetype": "text/x-python",
   "name": "python",
   "nbconvert_exporter": "python",
   "pygments_lexer": "ipython3",
   "version": "3.10.4"
  },
  "orig_nbformat": 4
 },
 "nbformat": 4,
 "nbformat_minor": 2
}
