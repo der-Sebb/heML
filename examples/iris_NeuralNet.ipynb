{
 "cells": [
  {
   "cell_type": "code",
   "execution_count": 17,
   "metadata": {},
   "outputs": [],
   "source": [
    "import torch\n",
    "import torch.nn as nn\n",
    "import torch.nn.functional as F\n",
    "import torch.optim as optim\n",
    "\n",
    "from sklearn.datasets import load_iris\n",
    "from sklearn.model_selection import train_test_split\n",
    "from sklearn.preprocessing import StandardScaler\n",
    "\n",
    "iris = load_iris()\n",
    "X = iris['data']\n",
    "y = iris['target']\n",
    "names = iris['target_names']\n",
    "feature_names = iris['feature_names']\n",
    "\n",
    "scaler = StandardScaler()\n",
    "X_scaled = scaler.fit_transform(X)\n",
    "\n",
    "X_train, X_test, y_train, y_test = train_test_split(\n",
    "    X_scaled, y, test_size=0.2, random_state=2)"
   ]
  },
  {
   "cell_type": "code",
   "execution_count": 18,
   "metadata": {},
   "outputs": [],
   "source": [
    "class Net(nn.Module):\n",
    "  def __init__(self, input):\n",
    "    super(Net, self).__init__()\n",
    "    self.hiddenOne = nn.Linear(input, 50)\n",
    "    self.hiddenTwo = nn.Linear(50, 50)\n",
    "    self.output = nn.Linear(50, 3)\n",
    "\n",
    "  def forward(self, x):\n",
    "    z1 = self.hiddenOne(x)\n",
    "    z2 = F.relu(z1)\n",
    "    z3 = self.hiddenTwo(z2)\n",
    "    z4 = F.relu(z3)\n",
    "    z5 = self.output(z4)\n",
    "    return z5"
   ]
  },
  {
   "cell_type": "code",
   "execution_count": 19,
   "metadata": {},
   "outputs": [],
   "source": [
    "device = torch.device(\"cpu\")\n",
    "\n",
    "train_x = torch.Tensor(X_train).float().to(device)\n",
    "test_x = torch.Tensor(X_test).float().to(device)\n",
    "train_y = torch.Tensor(y_train).long().to(device)\n",
    "test_y = torch.Tensor(y_test).long().to(device)"
   ]
  },
  {
   "cell_type": "code",
   "execution_count": 20,
   "metadata": {},
   "outputs": [
    {
     "name": "stdout",
     "output_type": "stream",
     "text": [
      "\n",
      "Starting training \n"
     ]
    }
   ],
   "source": [
    "net = Net(train_x.shape[1]).to(device)\n",
    "\n",
    "no_epochs = 100\n",
    "learning_rate = 1\n",
    "loss_func = nn.CrossEntropyLoss()\n",
    "optimizer = torch.optim.SGD(net.parameters(), lr=learning_rate)\n",
    "\n",
    "print(\"\\nStarting training \")"
   ]
  },
  {
   "cell_type": "code",
   "execution_count": 21,
   "metadata": {},
   "outputs": [
    {
     "name": "stdout",
     "output_type": "stream",
     "text": [
      "Loss in epoch 0 is 1.1570197343826294\n",
      "Loss in epoch 10 is 0.4634864628314972\n",
      "Loss in epoch 20 is 0.11523798108100891\n",
      "Loss in epoch 30 is 0.06683062762022018\n",
      "Loss in epoch 40 is 0.09232518076896667\n",
      "Loss in epoch 50 is 0.052873656153678894\n",
      "Loss in epoch 60 is 0.04424997419118881\n",
      "Loss in epoch 70 is 0.05571552366018295\n",
      "Loss in epoch 80 is 0.054134488105773926\n",
      "Loss in epoch 90 is 0.04248909652233124\n",
      "Done training \n"
     ]
    }
   ],
   "source": [
    "train_losses = []\n",
    "for epoch in range(0, no_epochs):\n",
    "\n",
    "    optimizer.zero_grad()\n",
    "    predictions = net(train_x)\n",
    "\n",
    "    loss = loss_func(predictions, train_y)\n",
    "    loss.backward()\n",
    "    optimizer.step()\n",
    "\n",
    "    train_losses.append(loss.item())\n",
    "\n",
    "    if epoch % 10 == 0:\n",
    "        print(f\"Loss in epoch {epoch} is {loss.item()}\")\n",
    "\n",
    "print(\"Done training \")"
   ]
  }
 ],
 "metadata": {
  "interpreter": {
   "hash": "a80ebf7ba738d5968b5f1bcd52e7a8cb27667057b121d5baaff5559180a4990f"
  },
  "kernelspec": {
   "display_name": "Python 3.10.4 ('projektarbeit')",
   "language": "python",
   "name": "python3"
  },
  "language_info": {
   "codemirror_mode": {
    "name": "ipython",
    "version": 3
   },
   "file_extension": ".py",
   "mimetype": "text/x-python",
   "name": "python",
   "nbconvert_exporter": "python",
   "pygments_lexer": "ipython3",
   "version": "3.10.4"
  },
  "orig_nbformat": 4
 },
 "nbformat": 4,
 "nbformat_minor": 2
}
