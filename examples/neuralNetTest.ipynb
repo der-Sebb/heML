{
 "cells": [
  {
   "cell_type": "markdown",
   "metadata": {},
   "source": [
    "Neuronale Netze Tests\n",
    "===\n",
    "Die in dem XOR Neural Net Notebook erstellten Netze wurden in verschiedenen Klassen und Funktionen zusammengefasst. Deswegen wird diese Implementierung anhand des XOR Beispiel und des Iris Datensatz ausprobiert. Verwendet wird in den jeweiligen Architekturen die bereits getestete Idee der Quadratischen Funktion als Aktivierungsfunktion zusammen mit einer Sigmoid Funktion in der Ausgabenschicht."
   ]
  },
  {
   "cell_type": "code",
   "execution_count": 28,
   "metadata": {},
   "outputs": [
    {
     "name": "stdout",
     "output_type": "stream",
     "text": [
      "[array([[0.00257633]]), array([[0.98814098]]), array([[0.98814066]]), array([[0.00207334]])]\n"
     ]
    }
   ],
   "source": [
    "from heNet import Network, FullyConnectedLayer, ActivationLayer\n",
    "from heNet import square, square_prime, sigmoid, sigmoid_prime, mse, mse_prime\n",
    "import numpy as np\n",
    "\n",
    "x_train = np.array([[[0,0]], [[0,1]], [[1,0]], [[1,1]]])\n",
    "y_train = np.array([[[0]], [[1]], [[1]], [[0]]])\n",
    "\n",
    "net = Network()\n",
    "net.add(FullyConnectedLayer(2, 2))\n",
    "net.add(ActivationLayer(square, square_prime))\n",
    "net.add(FullyConnectedLayer(2, 1))\n",
    "net.add(ActivationLayer(sigmoid, sigmoid_prime))\n",
    "\n",
    "net.use(mse, mse_prime)\n",
    "net.fit(x_train, y_train, epochs=1000, learning_rate=1)\n",
    "\n",
    "out = net.predict(x_train)\n",
    "print(out)"
   ]
  },
  {
   "cell_type": "markdown",
   "metadata": {},
   "source": [
    "In diesem Test wurde die gleiche Architektur verwendet und es erzeugt die korrekten Ausgaben."
   ]
  },
  {
   "cell_type": "markdown",
   "metadata": {},
   "source": [
    "Iris Datensatz\n",
    "---\n",
    "Als nächster Test wird der Datensatz aus der Linear Regression verwendet. In diesem Fall wird aber die Art der Blumen anhand der Merkmalen vorhergesagt."
   ]
  },
  {
   "cell_type": "code",
   "execution_count": 29,
   "metadata": {},
   "outputs": [],
   "source": [
    "from sklearn.datasets import load_iris\n",
    "from sklearn.preprocessing import StandardScaler\n",
    "from sklearn.model_selection import train_test_split\n",
    "from keras.utils import np_utils\n",
    "\n",
    "iris = load_iris()\n",
    "X = iris['data']\n",
    "y = iris['target']\n",
    "names = iris['target_names']\n",
    "feature_names = iris['feature_names']\n",
    "\n",
    "scaler = StandardScaler()\n",
    "X_scaled = scaler.fit_transform(X)\n",
    "\n",
    "X_train, X_test, y_train, y_test = train_test_split(\n",
    "    X_scaled, y, test_size=0.2, random_state=2)\n",
    "\n",
    "def transform_X(data):\n",
    "    return np.array([[row] for row in data])\n",
    "\n",
    "X_train = transform_X(X_train)\n",
    "X_test = transform_X(X_test)\n",
    "y_train = np_utils.to_categorical(y_train)\n",
    "y_test = np_utils.to_categorical(y_test)"
   ]
  },
  {
   "cell_type": "markdown",
   "metadata": {},
   "source": [
    "Die verwendete Architektur für die Iris Aufgabe besteht wie für XOR aus der gleichen Anzahl an Schichten, aber hat eine andere Dimension, da es unterschiedlich viele Features gibt."
   ]
  },
  {
   "cell_type": "code",
   "execution_count": 30,
   "metadata": {},
   "outputs": [
    {
     "name": "stdout",
     "output_type": "stream",
     "text": [
      "epoch 1/100   error=0.211389\n",
      "epoch 11/100   error=0.024175\n",
      "epoch 21/100   error=0.013967\n",
      "epoch 31/100   error=0.012404\n",
      "epoch 41/100   error=0.011994\n",
      "epoch 51/100   error=0.011835\n",
      "epoch 61/100   error=0.011634\n",
      "epoch 71/100   error=0.011520\n",
      "epoch 81/100   error=0.012034\n",
      "epoch 91/100   error=0.012477\n"
     ]
    }
   ],
   "source": [
    "net = Network(debug=10)\n",
    "net.add(FullyConnectedLayer(4, 4))\n",
    "net.add(ActivationLayer(square, square_prime))\n",
    "net.add(FullyConnectedLayer(4, 3))\n",
    "net.add(ActivationLayer(sigmoid, sigmoid_prime))\n",
    "\n",
    "net.use(mse, mse_prime)\n",
    "net.fit(X_train, y_train, epochs=100, learning_rate=0.1)"
   ]
  },
  {
   "cell_type": "markdown",
   "metadata": {},
   "source": [
    "Das trainierte Modell kann die Klassen der Blumen des Testdatensatz nun vorhersagen."
   ]
  },
  {
   "cell_type": "code",
   "execution_count": 31,
   "metadata": {},
   "outputs": [
    {
     "name": "stdout",
     "output_type": "stream",
     "text": [
      "Im Testdatensatz 29 von 30 richtig klassifiziert --> 0.97\n"
     ]
    }
   ],
   "source": [
    "out = net.predict(X_test)\n",
    "correct = 0\n",
    "for idx,_ in enumerate(out):\n",
    "    if np.argmax(np.squeeze(out[idx])) == np.argmax(np.squeeze(y_test[idx])):\n",
    "        correct = correct + 1\n",
    "print(f\"Im Testdatensatz wurden {correct} von {len(out)} richtig klassifiziert --> {round(correct/len(out),2)}\")"
   ]
  },
  {
   "cell_type": "markdown",
   "metadata": {},
   "source": [
    "Das HE freundliche Modell hat fast alle der unverschlüsselten Daten korrekt klassifiziert."
   ]
  }
 ],
 "metadata": {
  "interpreter": {
   "hash": "a80ebf7ba738d5968b5f1bcd52e7a8cb27667057b121d5baaff5559180a4990f"
  },
  "kernelspec": {
   "display_name": "Python 3.10.4 ('projektarbeit')",
   "language": "python",
   "name": "python3"
  },
  "language_info": {
   "codemirror_mode": {
    "name": "ipython",
    "version": 3
   },
   "file_extension": ".py",
   "mimetype": "text/x-python",
   "name": "python",
   "nbconvert_exporter": "python",
   "pygments_lexer": "ipython3",
   "version": "3.10.4"
  },
  "orig_nbformat": 4
 },
 "nbformat": 4,
 "nbformat_minor": 2
}
